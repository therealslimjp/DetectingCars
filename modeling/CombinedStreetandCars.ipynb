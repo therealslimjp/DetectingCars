{
 "metadata": {
  "kernelspec": {
   "language": "python",
   "display_name": "Python 3",
   "name": "python3"
  },
  "language_info": {
   "name": "python",
   "version": "3.10.12",
   "mimetype": "text/x-python",
   "codemirror_mode": {
    "name": "ipython",
    "version": 3
   },
   "pygments_lexer": "ipython3",
   "nbconvert_exporter": "python",
   "file_extension": ".py"
  },
  "kaggle": {
   "accelerator": "gpu",
   "dataSources": [
    {
     "sourceId": 7430331,
     "sourceType": "datasetVersion",
     "datasetId": 4291587
    },
    {
     "sourceId": 7431070,
     "sourceType": "datasetVersion",
     "datasetId": 4324382
    },
    {
     "sourceId": 7465898,
     "sourceType": "datasetVersion",
     "datasetId": 4345847
    },
    {
     "sourceId": 7465964,
     "sourceType": "datasetVersion",
     "datasetId": 4345882
    }
   ],
   "dockerImageVersionId": 30636,
   "isInternetEnabled": true,
   "language": "python",
   "sourceType": "notebook",
   "isGpuEnabled": true
  }
 },
 "nbformat_minor": 4,
 "nbformat": 4,
 "cells": [
  {
   "cell_type": "markdown",
   "source": [
    "# Trying out if we can use the street model to detect cars\n",
    "In this approach, we thought about using both models to detect cars. First, we use the street model to detect streets and then we use the car model to detect cars on the streets. We run images through the street model and then we black out the non-street areas. We then use the car model to detect cars on the blacked out images. We thought that this approach might be better than using the car model directly on the aerial images because there is less noise in the images and therefore less confusing information for the model. Unfortunately we did not go through with this approach because the results were not promising (worse dice score e.g. 0,63 vs 0,78). We think that this may be because the street model is not good in detecting parking lots. Since many Cars in the aerial images are parked on parking lots, the car model does not detect them when the pixels are blacked out."
   ],
   "metadata": {
    "collapsed": false
   }
  },
  {
   "cell_type": "code",
   "source": [
    "from fastai.vision.all import *\n",
    "import numpy as np\n",
    "from shapely.geometry import Polygon\n",
    "import matplotlib.pyplot as plt\n",
    "from PIL import Image\n",
    "import numpy as np\n",
    "import torch"
   ],
   "metadata": {
    "_uuid": "8f2839f25d086af736a60e9eeb907d3b93b6e0e5",
    "_cell_guid": "b1076dfc-b9ad-4769-8c92-a6c4dae69d19",
    "execution": {
     "iopub.status.busy": "2024-01-25T20:14:21.423760Z",
     "iopub.execute_input": "2024-01-25T20:14:21.424434Z",
     "iopub.status.idle": "2024-01-25T20:14:29.259215Z",
     "shell.execute_reply.started": "2024-01-25T20:14:21.424399Z",
     "shell.execute_reply": "2024-01-25T20:14:29.258364Z"
    },
    "trusted": true
   },
   "execution_count": 1,
   "outputs": [
    {
     "name": "stderr",
     "text": "/opt/conda/lib/python3.10/site-packages/scipy/__init__.py:146: UserWarning: A NumPy version >=1.16.5 and <1.23.0 is required for this version of SciPy (detected version 1.24.3\n  warnings.warn(f\"A NumPy version >={np_minversion} and <{np_maxversion}\"\n",
     "output_type": "stream"
    }
   ]
  },
  {
   "cell_type": "code",
   "source": [
    "# check if cuda is available\n",
    "print(torch.cuda.is_available())"
   ],
   "metadata": {
    "execution": {
     "iopub.status.busy": "2024-01-24T23:02:39.497603Z",
     "iopub.execute_input": "2024-01-24T23:02:39.497975Z",
     "iopub.status.idle": "2024-01-24T23:02:39.528598Z",
     "shell.execute_reply.started": "2024-01-24T23:02:39.497945Z",
     "shell.execute_reply": "2024-01-24T23:02:39.527548Z"
    },
    "trusted": true
   },
   "execution_count": null,
   "outputs": []
  },
  {
   "cell_type": "markdown",
   "source": [
    "## Load Street Trainingsdata"
   ],
   "metadata": {}
  },
  {
   "cell_type": "code",
   "source": [
    "# define a function to get the street images\n",
    "def get_street_images(name):\n",
    "    return get_image_files(\"/kaggle/input/tds-streets/train_test_split\")\n",
    "\n"
   ],
   "metadata": {
    "execution": {
     "iopub.status.busy": "2024-01-24T20:09:44.201527Z",
     "iopub.execute_input": "2024-01-24T20:09:44.202036Z",
     "iopub.status.idle": "2024-01-24T20:09:44.208116Z",
     "shell.execute_reply.started": "2024-01-24T20:09:44.201989Z",
     "shell.execute_reply": "2024-01-24T20:09:44.206891Z"
    },
    "trusted": true
   },
   "execution_count": null,
   "outputs": []
  },
  {
   "cell_type": "code",
   "source": [
    "for i in get_street_images(\"x\"): \n",
    "    print(i)\n",
    "    break"
   ],
   "metadata": {
    "execution": {
     "iopub.status.busy": "2024-01-24T20:15:40.306715Z",
     "iopub.execute_input": "2024-01-24T20:15:40.307956Z",
     "iopub.status.idle": "2024-01-24T20:15:41.723165Z",
     "shell.execute_reply.started": "2024-01-24T20:15:40.307911Z",
     "shell.execute_reply": "2024-01-24T20:15:41.722070Z"
    },
    "trusted": true
   },
   "execution_count": null,
   "outputs": []
  },
  {
   "cell_type": "markdown",
   "source": [
    "# Load Street Model"
   ],
   "metadata": {}
  },
  {
   "cell_type": "code",
   "source": [
    "def mask_function(name):\n",
    "    return np.load(str(name).replace(\"img.png\", \"label_street_mask.npy\"))\n",
    "satellite_block = DataBlock(blocks = (ImageBlock, MaskBlock(codes = [\"background\",\"street\"])),\n",
    "                 get_items=get_street_images,\n",
    "                 splitter=GrandparentSplitter(train_name='train', valid_name='test'),\n",
    "                 get_y=mask_function,\n",
    "                 item_tfms=Resize(460),\n",
    "                 batch_tfms=aug_transforms(size=256, max_lighting=0.3)\n",
    ")\n",
    "\n",
    "dataloader = satellite_block.dataloaders(\"/kaggle/input/tds-streets/train_test_split\", bs=1)\n",
    "opt_func = Adam\n",
    "learner = unet_learner(dataloader,resnet34,metrics=Dice,opt_func=opt_func)\n",
    "\n",
    "path = Path(\"/kaggle/input/streetmodel\") \n",
    "learner.load(path/\"best_model\")\n"
   ],
   "metadata": {
    "execution": {
     "iopub.status.busy": "2024-01-24T20:11:14.142201Z",
     "iopub.execute_input": "2024-01-24T20:11:14.143020Z",
     "iopub.status.idle": "2024-01-24T20:11:32.578966Z",
     "shell.execute_reply.started": "2024-01-24T20:11:14.142979Z",
     "shell.execute_reply": "2024-01-24T20:11:32.577868Z"
    },
    "trusted": true
   },
   "execution_count": null,
   "outputs": []
  },
  {
   "cell_type": "code",
   "source": [
    "from PIL import Image\n",
    "import numpy as np\n",
    "\n",
    "def paint_non_street_black(path, street_array):\n",
    "    # Load the original image\n",
    "    original_image = Image.open(path)  # Replace with your image path\n",
    "\n",
    "    # Convert the original image to a numpy array\n",
    "    original_array = np.array(original_image)\n",
    "    if len(original_array.shape) == 3:\n",
    "        mask_array = np.stack([street_array]*3, axis=-1)\n",
    "\n",
    "    # Modify the original image: set pixels to black where mask_array is 0\n",
    "    modified_array = np.where( mask_array== 0, 0, original_array)\n",
    "\n",
    "    # Convert the modified numpy array back to an image\n",
    "    modified_image = Image.fromarray(modified_array.astype('uint8'))\n",
    "    return modified_image"
   ],
   "metadata": {
    "execution": {
     "iopub.status.busy": "2024-01-24T21:05:57.519012Z",
     "iopub.execute_input": "2024-01-24T21:05:57.519385Z",
     "iopub.status.idle": "2024-01-24T21:05:57.526239Z",
     "shell.execute_reply.started": "2024-01-24T21:05:57.519355Z",
     "shell.execute_reply": "2024-01-24T21:05:57.525030Z"
    },
    "trusted": true
   },
   "execution_count": null,
   "outputs": []
  },
  {
   "cell_type": "code",
   "source": [
    "!rm -r /kaggle/working"
   ],
   "metadata": {
    "execution": {
     "iopub.status.busy": "2024-01-24T21:09:00.156031Z",
     "iopub.execute_input": "2024-01-24T21:09:00.157287Z",
     "iopub.status.idle": "2024-01-24T21:09:01.192840Z",
     "shell.execute_reply.started": "2024-01-24T21:09:00.157243Z",
     "shell.execute_reply": "2024-01-24T21:09:01.191616Z"
    },
    "trusted": true
   },
   "execution_count": null,
   "outputs": []
  },
  {
   "cell_type": "code",
   "source": [
    "\n",
    "# Perform for each image the prediction on the street model. We then get the np array with detected streets=1 and not-detected-streets=0\n",
    "for i in get_street_images(\"\"):\n",
    "    prediction_street = learner.predict(i)[0].numpy()\n",
    "    # scale it up to 1000 * 1000\n",
    "    # Convert the numpy array to a PIL Image\n",
    "    img = Image.fromarray(np.uint8(prediction_street * 255))  # Scale and convert to uint8\n",
    "\n",
    "    # Resize the image to 1000x1000\n",
    "    resized_img = img.resize((1000, 1000))\n",
    "    resized_array = np.array(resized_img)\n",
    "    result_image= paint_non_street_black(i,resized_array)\n",
    "\n",
    "    # Using regex to extract the pattern where 'validation' can be any string\n",
    "    extracted = re.search(r'/([^/]+)/[\\d_]+/', str(i))\n",
    "    extracted = extracted.group(0)[1:-1] if extracted else None\n",
    "    os.makedirs(f\"/kaggle/working/streets_blacked/train_test_split/{extracted}/\")\n",
    "    result_image.save(f'/kaggle/working/streets_blacked/train_test_split/{extracted}/img.png') \n"
   ],
   "metadata": {
    "execution": {
     "iopub.status.busy": "2024-01-24T21:09:33.334235Z",
     "iopub.execute_input": "2024-01-24T21:09:33.334811Z",
     "iopub.status.idle": "2024-01-24T21:54:01.235842Z",
     "shell.execute_reply.started": "2024-01-24T21:09:33.334747Z",
     "shell.execute_reply": "2024-01-24T21:54:01.234868Z"
    },
    "collapsed": true,
    "jupyter": {
     "outputs_hidden": true
    },
    "trusted": true
   },
   "execution_count": null,
   "outputs": []
  },
  {
   "cell_type": "code",
   "source": [
    "\"25961_12100\" in os.listdir(\"/kaggle/working/streets_blacked/train_test_split/test/\")"
   ],
   "metadata": {
    "execution": {
     "iopub.status.busy": "2024-01-24T22:01:21.265377Z",
     "iopub.execute_input": "2024-01-24T22:01:21.265739Z",
     "iopub.status.idle": "2024-01-24T22:01:21.273172Z",
     "shell.execute_reply.started": "2024-01-24T22:01:21.265712Z",
     "shell.execute_reply": "2024-01-24T22:01:21.272043Z"
    },
    "trusted": true
   },
   "execution_count": null,
   "outputs": []
  },
  {
   "cell_type": "code",
   "source": [
    "from PIL import Image\n",
    "import numpy as np\n",
    "\n",
    "def manipulate_mask(path_to_blacked):\n",
    "    if not str(path_to_blacked).endswith(\"/\"): \n",
    "        path_to_blacked=str(path_to_blacked)+\"/\"\n",
    "    # Load the image\n",
    "    image = Image.open(str(path_to_blacked)+\"img.png\")\n",
    "    # Convert the image to a numpy array\n",
    "    image_array = np.array(image)\n",
    "    # load mask \n",
    "    target_path= path_to_blacked.replace(\"working/streets_blacked\",\"input/car-segmentation\")+\"label.npy\"\n",
    "    \n",
    "    # we had to do this because the path was not always correct and so we had to search fo the correct image\n",
    "    if os.path.isfile(target_path):\n",
    "        pass\n",
    "    elif os.path.exists(target_path.replace(\"/train/\",\"/test/\")):\n",
    "        target_path=target_path.replace(\"/train/\",\"/test/\")\n",
    "        \n",
    "    elif os.path.exists(target_path.replace(\"/train/\",\"/validation/\")):\n",
    "        target_path=target_path.replace(\"/train/\",\"/validation/\")\n",
    "        \n",
    "    elif os.path.exists(target_path.replace(\"/test/\",\"/train/\")):\n",
    "        target_path=target_path.replace(\"/test/\",\"/train/\")\n",
    "        \n",
    "    elif os.path.exists(target_path.replace(\"/test/\",\"/validation/\")):\n",
    "        target_path=target_path.replace(\"/test/\",\"/validation/\")\n",
    "        \n",
    "    elif os.path.exists(target_path.replace(\"/validation/\",\"/train/\")):\n",
    "        target_path=target_path.replace(\"/validation/\",\"/train/\")\n",
    "        \n",
    "    elif os.path.exists(target_path.replace(\"/validation/\",\"/test/\")):\n",
    "        target_path=target_path.replace(\"/validation/\",\"/test/\")\n",
    "    mask_array= np.load(target_path)\n",
    "    # Check if the PNG image is in grayscale or color\n",
    "    if len(image_array.shape) == 3:\n",
    "        # Assuming color image, identify black pixels (R=G=B=0)\n",
    "        black_pixels_mask = np.all(image_array == [0, 0, 0], axis=-1)\n",
    "    else:\n",
    "        # Assuming grayscale image, black pixels are 0\n",
    "        black_pixels_mask = (image_array == 0)\n",
    "\n",
    "    # Set corresponding positions in npy_array to 0 where black_pixels_mask is True\n",
    "    mask_array[black_pixels_mask] = 0\n",
    "    return mask_array\n",
    "    "
   ],
   "metadata": {
    "execution": {
     "iopub.status.busy": "2024-01-24T23:02:47.035930Z",
     "iopub.execute_input": "2024-01-24T23:02:47.036313Z",
     "iopub.status.idle": "2024-01-24T23:02:47.048961Z",
     "shell.execute_reply.started": "2024-01-24T23:02:47.036283Z",
     "shell.execute_reply": "2024-01-24T23:02:47.048000Z"
    },
    "trusted": true
   },
   "execution_count": null,
   "outputs": []
  },
  {
   "cell_type": "code",
   "source": [
    "modified_array=manipulate_mask(\"/kaggle/working/streets_blacked/train_test_split/test/26794_12530/\")\n",
    "#modified_array= np.load(\"/kaggle/input/car-segmentation/train_test_split/test/26794_12530/label.npy\")\n",
    "modified_image = Image.fromarray(modified_array.astype('uint8'))\n",
    "\n",
    "# Display the modified image (using matplotlib)\n",
    "import matplotlib.pyplot as plt\n",
    "plt.imshow(modified_image)\n",
    "plt.axis('off')\n",
    "plt.show()"
   ],
   "metadata": {
    "execution": {
     "iopub.status.busy": "2024-01-24T22:48:10.062896Z",
     "iopub.execute_input": "2024-01-24T22:48:10.063363Z",
     "iopub.status.idle": "2024-01-24T22:48:10.301260Z",
     "shell.execute_reply.started": "2024-01-24T22:48:10.063329Z",
     "shell.execute_reply": "2024-01-24T22:48:10.300149Z"
    },
    "trusted": true
   },
   "execution_count": null,
   "outputs": []
  },
  {
   "cell_type": "code",
   "source": [
    " image = Image.open(\"/kaggle/working/streets_blacked/train_test_split/test/26794_12530/\"+\"img.png\")\n",
    "    # Convert the image to a numpy array\n",
    "image_array = np.array(image)\n",
    "import matplotlib.pyplot as plt\n",
    "plt.imshow(image_array)\n",
    "plt.axis('off')\n",
    "plt.show()"
   ],
   "metadata": {
    "execution": {
     "iopub.status.busy": "2024-01-24T22:45:58.795405Z",
     "iopub.execute_input": "2024-01-24T22:45:58.795797Z",
     "iopub.status.idle": "2024-01-24T22:45:59.072725Z",
     "shell.execute_reply.started": "2024-01-24T22:45:58.795751Z",
     "shell.execute_reply": "2024-01-24T22:45:59.071925Z"
    },
    "trusted": true
   },
   "execution_count": null,
   "outputs": []
  },
  {
   "cell_type": "markdown",
   "source": [
    "## Load the Car Model"
   ],
   "metadata": {}
  },
  {
   "cell_type": "code",
   "source": [
    "def get_images(name):\n",
    "    return get_image_files(\"/kaggle/working/streets_blacked/train_test_split\")\n",
    "# define a function to get the numpy mask for the given path\n",
    "def get_mask(path):\n",
    "    return manipulate_mask(path.parent)\n",
    "\n",
    "\n",
    "aerial_Block = DataBlock(blocks = (ImageBlock, MaskBlock(codes = [\"nothing\",\"car\"])),\n",
    "                            splitter=GrandparentSplitter(train_name='train', valid_name='test'),\n",
    "                            get_items=get_images,\n",
    "                            get_y=get_mask,\n",
    "                            batch_tfms=aug_transforms(size=500, max_lighting=0.3))\n",
    "dataloader = aerial_Block.dataloaders(\"/kaggle/working/streets_blacked/train_test_split\",bs=8)\n",
    "torch.cuda.empty_cache()\n"
   ],
   "metadata": {
    "execution": {
     "iopub.status.busy": "2024-01-24T23:03:02.878762Z",
     "iopub.execute_input": "2024-01-24T23:03:02.879146Z",
     "iopub.status.idle": "2024-01-24T23:03:03.009872Z",
     "shell.execute_reply.started": "2024-01-24T23:03:02.879104Z",
     "shell.execute_reply": "2024-01-24T23:03:03.008095Z"
    },
    "trusted": true
   },
   "execution_count": null,
   "outputs": []
  },
  {
   "cell_type": "code",
   "source": [
    "dataloader.show_batch(max_n=4,figsize=(10,10))\n"
   ],
   "metadata": {
    "execution": {
     "iopub.status.busy": "2024-01-24T22:58:13.522282Z",
     "iopub.execute_input": "2024-01-24T22:58:13.522674Z",
     "iopub.status.idle": "2024-01-24T22:58:15.603275Z",
     "shell.execute_reply.started": "2024-01-24T22:58:13.522646Z",
     "shell.execute_reply": "2024-01-24T22:58:15.601573Z"
    },
    "collapsed": true,
    "jupyter": {
     "outputs_hidden": true
    },
    "trusted": true
   },
   "execution_count": null,
   "outputs": []
  },
  {
   "cell_type": "code",
   "source": [
    "learner = unet_learner(dataloader,resnet34,metrics=Dice)"
   ],
   "metadata": {
    "execution": {
     "iopub.status.busy": "2024-01-24T22:58:44.031066Z",
     "iopub.execute_input": "2024-01-24T22:58:44.031523Z",
     "iopub.status.idle": "2024-01-24T22:58:48.915596Z",
     "shell.execute_reply.started": "2024-01-24T22:58:44.031489Z",
     "shell.execute_reply": "2024-01-24T22:58:48.914499Z"
    },
    "trusted": true
   },
   "execution_count": null,
   "outputs": []
  },
  {
   "cell_type": "code",
   "source": [
    "lr = learner.lr_find()"
   ],
   "metadata": {
    "execution": {
     "iopub.status.busy": "2024-01-24T23:02:10.310483Z",
     "iopub.execute_input": "2024-01-24T23:02:10.310753Z",
     "iopub.status.idle": "2024-01-24T23:02:10.631804Z",
     "shell.execute_reply.started": "2024-01-24T23:02:10.310729Z",
     "shell.execute_reply": "2024-01-24T23:02:10.630598Z"
    },
    "trusted": true
   },
   "execution_count": null,
   "outputs": []
  },
  {
   "cell_type": "code",
   "source": [
    "learner.fit_one_cycle(20, lr_max=lr.valley, cbs=[EarlyStoppingCallback(monitor='dice', min_delta=0.01, patience=5, comp=np.greater),\n",
    "                                           SaveModelCallback(monitor='dice', min_delta=0.01, comp=np.greater, fname='best_frozen_model')])"
   ],
   "metadata": {
    "execution": {
     "iopub.status.busy": "2024-01-13T14:32:15.379422Z",
     "iopub.execute_input": "2024-01-13T14:32:15.379715Z",
     "iopub.status.idle": "2024-01-13T15:24:03.439652Z",
     "shell.execute_reply.started": "2024-01-13T14:32:15.379689Z",
     "shell.execute_reply": "2024-01-13T15:24:03.438466Z"
    },
    "trusted": true
   },
   "execution_count": null,
   "outputs": []
  },
  {
   "cell_type": "markdown",
   "source": [
    "## unfreeze and retrain"
   ],
   "metadata": {}
  },
  {
   "cell_type": "code",
   "source": [
    "learner = learner.load('best_frozen_model')\n",
    "learner.unfreeze()"
   ],
   "metadata": {
    "execution": {
     "iopub.status.busy": "2024-01-13T15:24:03.441226Z",
     "iopub.execute_input": "2024-01-13T15:24:03.441588Z",
     "iopub.status.idle": "2024-01-13T15:24:03.583264Z",
     "shell.execute_reply.started": "2024-01-13T15:24:03.441554Z",
     "shell.execute_reply": "2024-01-13T15:24:03.582324Z"
    },
    "trusted": true
   },
   "execution_count": null,
   "outputs": []
  },
  {
   "cell_type": "code",
   "source": [
    "lr = learner.lr_find()"
   ],
   "metadata": {
    "execution": {
     "iopub.status.busy": "2024-01-13T15:24:03.58452Z",
     "iopub.execute_input": "2024-01-13T15:24:03.584835Z",
     "iopub.status.idle": "2024-01-13T15:24:52.145467Z",
     "shell.execute_reply.started": "2024-01-13T15:24:03.584787Z",
     "shell.execute_reply": "2024-01-13T15:24:52.144435Z"
    },
    "trusted": true
   },
   "execution_count": null,
   "outputs": []
  },
  {
   "cell_type": "code",
   "source": [
    "learner.fit_one_cycle(\n",
    "    20, lr_max=slice(lr.valley/10,lr.valley*10),\n",
    "    cbs=[EarlyStoppingCallback(monitor='dice', min_delta=0.005, patience=5, comp=np.greater),\n",
    "         SaveModelCallback(monitor='dice', comp=np.greater, fname='best_model')]\n",
    "         )"
   ],
   "metadata": {
    "execution": {
     "iopub.status.busy": "2024-01-13T15:26:14.159725Z",
     "iopub.execute_input": "2024-01-13T15:26:14.160836Z",
     "iopub.status.idle": "2024-01-13T15:42:24.358679Z",
     "shell.execute_reply.started": "2024-01-13T15:26:14.160777Z",
     "shell.execute_reply": "2024-01-13T15:42:24.357693Z"
    },
    "trusted": true
   },
   "execution_count": null,
   "outputs": []
  }
 ]
}
