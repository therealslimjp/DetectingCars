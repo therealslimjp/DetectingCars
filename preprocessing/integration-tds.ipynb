{
 "cells": [
  {
   "cell_type": "code",
   "execution_count": 1,
   "id": "initial_id",
   "metadata": {
    "collapsed": true,
    "ExecuteTime": {
     "end_time": "2024-01-10T21:04:12.884132Z",
     "start_time": "2024-01-10T21:04:05.226934Z"
    }
   },
   "outputs": [
    {
     "name": "stdout",
     "output_type": "stream",
     "text": [
      "labelbox/export-result-2.ndjson\n",
      "labelbox/export-result.ndjson\n",
      "labelme/swissimage-dop10_2022_2679-1253_0.1_2056.json\n",
      "labelme/Swiss_image_6.json\n",
      "labelme/Swiss_image_7.json\n",
      "labelme/image_1_label.json\n",
      "labelme/swissimage-dop10_2022_2675-1246_0.1_2056.json\n",
      "labelme/swissimage-dop10_2022_2674-1247_0.1_2056.json\n",
      "labelme/image_6_label.json\n",
      "labelme/image_0_labels.json\n",
      "labelme/image_3_label.json\n",
      "labelme/Swiss_image_1.json\n",
      "labelme/Swiss_image_2.json\n",
      "labelme/swissimage-dop10_2021_2671-1248_0.1_2056.json\n",
      "labelme/image_5_label.json\n",
      "labelme/Swiss_image_3.json\n",
      "labelme/Swiss_image_8.json\n",
      "labelme/swissimage-dop10_2022_2674-1251_0.1_2056.json\n",
      "labelme/Swiss_image_4.json\n",
      "labelme/Swiss_image_5.json\n"
     ]
    }
   ],
   "source": [
    "import json\n",
    "\n",
    "import ndjson\n",
    "\n",
    "\n",
    "def read_ndjson(path):\n",
    "    # read  ndjson file into an dict\n",
    "    with open(path, 'r') as f:\n",
    "        data = ndjson.load(f)\n",
    "        print(path)\n",
    "        return data[0]\n",
    "\n",
    "import os\n",
    "\n",
    "\n",
    "\n",
    "labelbox_dir = 'labelbox/'\n",
    "labelbox_dicts= []\n",
    "labelme_dicts= []\n",
    "for filename in os.listdir(labelbox_dir):\n",
    "    if filename.endswith('.ndjson'):\n",
    "        file_path = os.path.join(labelbox_dir, filename)\n",
    "        data= read_ndjson(file_path)\n",
    "        labelbox_dicts.append(data)\n",
    "        #print(data)\n",
    "for filename in os.listdir(\"labelme\"):\n",
    "    if filename.endswith('.json'):\n",
    "        file_path = os.path.join(\"labelme\", filename)\n",
    "        print(file_path)\n",
    "        with open(file_path, 'r') as f:\n",
    "            data= json.load(f)\n",
    "            labelme_dicts.append(data)\n",
    "            #print(data)\n",
    "\n",
    "    "
   ]
  },
  {
   "cell_type": "code",
   "execution_count": 2,
   "outputs": [],
   "source": [
    "labelme_dicts[-2]"
   ],
   "metadata": {
    "collapsed": false,
    "ExecuteTime": {
     "end_time": "2024-01-10T21:04:14.315405Z",
     "start_time": "2024-01-10T21:04:12.894510Z"
    }
   },
   "id": "f7c3d506b83dc65f"
  },
  {
   "cell_type": "code",
   "execution_count": 3,
   "outputs": [],
   "source": [
    "labelme_polygons = [x[\"shapes\"] for x in labelme_dicts]"
   ],
   "metadata": {
    "collapsed": false
   },
   "id": "99a09dad226b900e"
  },
  {
   "cell_type": "code",
   "execution_count": 4,
   "outputs": [],
   "source": [
    "len(labelme_polygons)"
   ],
   "metadata": {
    "collapsed": false
   },
   "id": "b6ee53ede7cb7808"
  },
  {
   "cell_type": "code",
   "execution_count": 5,
   "outputs": [],
   "source": [
    "labelbox_dicts[1]"
   ],
   "metadata": {
    "collapsed": false
   },
   "id": "43da220995ca52c7"
  },
  {
   "cell_type": "code",
   "execution_count": 6,
   "outputs": [],
   "source": [
    "# transform labelbox dicts into the format of labelme polygons\n",
    "ids = [list(x[\"projects\"].keys())[0] for x in labelbox_dicts]\n",
    "ids"
   ],
   "metadata": {
    "collapsed": false
   },
   "id": "bd4aee99defe71bb"
  },
  {
   "cell_type": "code",
   "execution_count": null,
   "outputs": [],
   "source": [
    "labelbox_polygons = [labelbox_dicts[x][\"projects\"][ids[x]][\"labels\"][0]['annotations'][\"objects\"] for x in range(len(labelbox_dicts))]\n",
    "# drop some infos \n",
    "labelbox_polygons = [[x[\"polygon\"] for x in labelbox_polygons[y]] for y in range(len(labelbox_polygons))]\n",
    "\n",
    "# add label to each entry\n",
    "labelbox_polygons = [[{\"label\": \"car\", \"points\": x} for x in labelbox_polygons[y]] for y in range(len(labelbox_polygons))]\n",
    "labelbox_polygons"
   ],
   "metadata": {
    "collapsed": false,
    "is_executing": true
   },
   "id": "10d795b6682262da"
  },
  {
   "cell_type": "code",
   "execution_count": null,
   "outputs": [],
   "source": [
    "# remove x and y from points\n",
    "labelbox_polygons_formatted= []\n",
    "for image in labelbox_polygons:\n",
    "    image_list = []\n",
    "    for polygon in image:\n",
    "        polygon_list= []\n",
    "        for point in polygon[\"points\"]:\n",
    "            polygon_list.append([point[\"x\"], point[\"y\"]])\n",
    "        image_list.append({\"label\": \"car\", \"points\": polygon_list, 'description': '','group_id': None,\n",
    "   'shape_type': 'polygon',\n",
    "   'flags': {},\n",
    "   'mask': None})\n",
    "    labelbox_polygons_formatted.append(image_list)\n",
    "labelbox_polygons_formatted"
   ],
   "metadata": {
    "collapsed": false,
    "is_executing": true
   },
   "id": "212989b6c3a85c13"
  },
  {
   "cell_type": "code",
   "execution_count": null,
   "outputs": [],
   "source": [
    "# if not rounding to 13 digits, add trailing zeros\n",
    "\n",
    "labelme_polygons[0]"
   ],
   "metadata": {
    "collapsed": false,
    "is_executing": true
   },
   "id": "122504fb432d2cbc"
  },
  {
   "cell_type": "code",
   "execution_count": null,
   "outputs": [],
   "source": [
    "from typing import List, Optional\n",
    "from pydantic import BaseModel\n",
    "\n",
    "class Point(BaseModel):\n",
    "    coords: float\n",
    "\n",
    "class Car(BaseModel):\n",
    "    label: str\n",
    "    points: List[List[float]]\n",
    "    group_id: Optional[int] = None\n",
    "    description: Optional[str] = None\n",
    "    shape_type: str\n",
    "    flags: dict\n",
    "    mask: Optional[str] = None\n",
    "\n",
    "class Image(BaseModel):\n",
    "    annotations: List[Car]\n",
    "\n",
    "class ImageCollection(BaseModel):\n",
    "    images: List[Image]\n",
    "    \n",
    "\n",
    "for i in range(len(labelme_polygons)): \n",
    "    parsed_data = Image(annotations=labelme_polygons[i])\n",
    "\n",
    "for j in range(len(labelbox_polygons_formatted)):\n",
    "    parsed_data = Image(annotations=labelbox_polygons_formatted[j])\n",
    "\n"
   ],
   "metadata": {
    "collapsed": false,
    "is_executing": true
   },
   "id": "31ccfb66235d462f"
  },
  {
   "cell_type": "code",
   "execution_count": null,
   "outputs": [],
   "source": [
    "labelme_polygons"
   ],
   "metadata": {
    "collapsed": false,
    "is_executing": true
   },
   "id": "5f71cff15c1a6699"
  },
  {
   "cell_type": "code",
   "execution_count": null,
   "outputs": [],
   "source": [
    "# put both formats in original \n",
    "labelme_final= [{\"version\": \"5.4.1\",\n",
    "  \"flags\": {},\n",
    "  \"shapes\": x, \"imageData\":None, \"imagePath\":None} for x in labelme_polygons]\n",
    "labelme_final"
   ],
   "metadata": {
    "collapsed": false,
    "is_executing": true
   },
   "id": "3de6423543306b76"
  },
  {
   "cell_type": "code",
   "execution_count": null,
   "outputs": [],
   "source": [
    "len(labelme_final)"
   ],
   "metadata": {
    "collapsed": false,
    "is_executing": true
   },
   "id": "5d44191c6bf850ae"
  },
  {
   "cell_type": "code",
   "execution_count": null,
   "outputs": [],
   "source": [
    "labelme_final_with_image_data= [{\"version\": \"5.4.1\",\n",
    "  \"flags\": {},\n",
    "  \"shapes\": x, \"imageData\":labelme_dicts[i][\"imageData\"], \"imagePath\":labelme_dicts[i][\"imagePath\"],\"imageHeight\":10000, \"imageWidth\":10000} for i, x in enumerate(labelme_polygons)]"
   ],
   "metadata": {
    "collapsed": false,
    "is_executing": true
   },
   "id": "bf423fe23970bd25"
  },
  {
   "cell_type": "code",
   "execution_count": null,
   "outputs": [],
   "source": [
    "set([x[\"imagePath\"] for x in labelme_dicts])"
   ],
   "metadata": {
    "collapsed": false,
    "is_executing": true
   },
   "id": "f1194f60c334e7f9"
  },
  {
   "cell_type": "code",
   "execution_count": null,
   "outputs": [],
   "source": [
    "[x[\"imagePath\"][:100] for x in labelme_final_with_image_data]"
   ],
   "metadata": {
    "collapsed": false,
    "is_executing": true
   },
   "id": "cd77a67e1bd1ba62"
  },
  {
   "cell_type": "code",
   "execution_count": null,
   "outputs": [],
   "source": [
    "labelbox_final= [{\"version\": \"5.4.1\",\n",
    "  \"flags\": {},\n",
    "  \"shapes\": x, \"imageData\":None, \"imagePath\":None,\"imageHeight\":10000, \"imageWidth\":10000} for x in labelbox_polygons_formatted]\n",
    "labelbox_final"
   ],
   "metadata": {
    "collapsed": false,
    "is_executing": true
   },
   "id": "15a263448d24fd56"
  },
  {
   "cell_type": "code",
   "execution_count": null,
   "outputs": [],
   "source": [
    "# add imagePath to labelbox_final\n",
    "for i in range(len(labelbox_final)):\n",
    "    labelbox_final[i][\"imagePath\"]= os.listdir(labelbox_dir)[i]\n",
    "\n",
    "labelbox_final[0]"
   ],
   "metadata": {
    "collapsed": false,
    "is_executing": true
   },
   "id": "c947dffbec0ad264"
  },
  {
   "cell_type": "code",
   "execution_count": null,
   "outputs": [],
   "source": [
    "from PIL import Image\n",
    "import io\n",
    "import base64\n",
    "\n",
    "# Path to your TIFF file\n",
    "\n",
    "# Open the image using Pillow\n",
    "\n",
    "\n",
    "# Path to your image file\n",
    "def encode_image_data(path): \n",
    "        \n",
    "    # Read the image file in binary mode\n",
    "    with Image.open(f\"labelbox_images/{path}\") as img:\n",
    "        print(path)\n",
    "        # Convert the image to bytes\n",
    "        buffered = io.BytesIO()\n",
    "        img.save(buffered, format=\"PNG\")\n",
    "        image_data = buffered.getvalue()\n",
    "    \n",
    "        # Encode the data to base64\n",
    "        encoded_string = base64.b64encode(image_data)\n",
    "\n",
    "# Convert to a regular string (optional, depending on your needs)\n",
    "        encoded_string = encoded_string.decode('utf-8')\n",
    "        return encoded_string\n",
    "\n",
    "\n",
    "for i in range(len(labelbox_final)):\n",
    "    labelbox_final[i][\"imageData\"]= encode_image_data(labelbox_dicts[i][\"data_row\"][\"external_id\"].replace(\".jpeg\", \".png\"))\n",
    "\n",
    "labelbox_final_with_image_data= labelbox_final"
   ],
   "metadata": {
    "collapsed": false,
    "is_executing": true
   },
   "id": "3be217bb349e75e2"
  },
  {
   "cell_type": "code",
   "execution_count": null,
   "outputs": [],
   "source": [
    "[x[\"imageData\"][:100] for x in labelbox_final_with_image_data]"
   ],
   "metadata": {
    "collapsed": false,
    "is_executing": true
   },
   "id": "75c8bc7fa6cf451f"
  },
  {
   "cell_type": "code",
   "execution_count": null,
   "outputs": [],
   "source": [
    "labelme_final_with_image_data[0][\"imageData\"][:100]"
   ],
   "metadata": {
    "collapsed": false,
    "is_executing": true
   },
   "id": "1a09f0b5d1a620b3"
  },
  {
   "cell_type": "code",
   "execution_count": null,
   "outputs": [],
   "source": [
    "labelme_final_with_image_data[0][\"imagePath\"]"
   ],
   "metadata": {
    "collapsed": false,
    "is_executing": true
   },
   "id": "fbf395e65f290344"
  },
  {
   "cell_type": "code",
   "execution_count": null,
   "outputs": [],
   "source": [
    "# join both formats\n",
    "final = labelme_final_with_image_data + labelbox_final_with_image_data\n",
    "len(final)"
   ],
   "metadata": {
    "collapsed": false,
    "is_executing": true
   },
   "id": "70f7faad95456508"
  },
  {
   "cell_type": "code",
   "execution_count": null,
   "outputs": [],
   "source": [
    "import re\n",
    "# write to json\n",
    "import json\n",
    "j= 0\n",
    "for i in final:\n",
    "    # get only filename after last slash\n",
    "    print(final[j][\"imagePath\"])\n",
    "    filename= re.search(r'[^/]+$', final[j][\"imagePath\"].replace(\"\\\\\",\"/\")).group(0)\n",
    "    print(filename)\n",
    "    with open(f'labelled_images/{filename}.json', 'w') as f:\n",
    "        json.dump(i, f)\n",
    "    j+=1"
   ],
   "metadata": {
    "collapsed": false,
    "is_executing": true
   },
   "id": "b719ce54ae3d32a0"
  },
  {
   "cell_type": "code",
   "execution_count": null,
   "outputs": [],
   "source": [
    "# decode \n",
    "\n",
    "import base64\n",
    "\n",
    "# Your base64 encoded string\n",
    "encoded_string = final[0][\"imageData\"]\n",
    "\n",
    "# Decode the base64 string\n",
    "image_data = base64.b64decode(encoded_string)\n",
    "\n",
    "#Write the image data to a file\n",
    "with open('output.png', 'wb') as file:\n",
    "    file.write(image_data)"
   ],
   "metadata": {
    "collapsed": false,
    "is_executing": true
   },
   "id": "fc67a88e22b46202"
  },
  {
   "cell_type": "code",
   "execution_count": null,
   "outputs": [],
   "source": [],
   "metadata": {
    "collapsed": false,
    "is_executing": true
   },
   "id": "63801c91d205d2ff"
  }
 ],
 "metadata": {
  "kernelspec": {
   "display_name": "Python 3",
   "language": "python",
   "name": "python3"
  },
  "language_info": {
   "codemirror_mode": {
    "name": "ipython",
    "version": 2
   },
   "file_extension": ".py",
   "mimetype": "text/x-python",
   "name": "python",
   "nbconvert_exporter": "python",
   "pygments_lexer": "ipython2",
   "version": "2.7.6"
  }
 },
 "nbformat": 4,
 "nbformat_minor": 5
}
