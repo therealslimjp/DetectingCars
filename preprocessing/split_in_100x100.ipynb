{
 "cells": [
  {
   "cell_type": "code",
   "execution_count": null,
   "outputs": [],
   "source": [
    "# convert all images to voc format"
   ],
   "metadata": {
    "collapsed": false
   },
   "id": "8e6b6199a5aa577c"
  },
  {
   "cell_type": "code",
   "execution_count": 1,
   "outputs": [
    {
     "data": {
      "text/plain": "['swissimage-dop10_2021_2622-1264_0.1_2056.tif.json',\n 'image_0.png.json',\n 'image_1.png.json',\n '.DS_Store',\n 'swissimage-dop10_2022_2674-1251_0.1_2056.tif.json',\n 'Swiss_image_5.png.json',\n 'image_6.png.json',\n 'Swiss_image_2.png.json',\n 'Swiss_image_3.png.json',\n 'export-result-2.ndjson.json',\n 'Swiss_image_6.tiff.json',\n 'export-result.ndjson.json',\n 'swissimage-dop10_2022_2679-1253_0.1_2056.tif.json',\n 'Swiss_image_7.png.json',\n 'image_3.png.json',\n 'swissimage-dop10_2021_2671-1248_0.1_2056.tif.json',\n 'swissimage-dop10_2022_2674-1247_0.1_2056.tif.json',\n 'Swiss_image_1.png.json',\n 'Swiss_image_4.tiff.json',\n 'swissimage-dop10_2022_2675-1246_0.1_2056.tif.json',\n 'image_5.png.json']"
     },
     "execution_count": 1,
     "metadata": {},
     "output_type": "execute_result"
    }
   ],
   "source": [
    "import os\n",
    "os.listdir(\"labelled_images/\")"
   ],
   "metadata": {
    "collapsed": false,
    "ExecuteTime": {
     "end_time": "2024-01-09T23:20:15.694756Z",
     "start_time": "2024-01-09T23:20:15.669926Z"
    }
   },
   "id": "814458497a7f3b26"
  },
  {
   "cell_type": "code",
   "execution_count": 2,
   "outputs": [
    {
     "name": "stderr",
     "output_type": "stream",
     "text": [
      "2024-01-10 00:20:23,470 [\u001B[1m\u001B[33mWARNING\u001B[0m] \u001B[36mjson_to_dataset\u001B[0m:\u001B[36mmain\u001B[0m:\u001B[36m15\u001B[0m- \u001B[1m\u001B[33mDEPRECATED: This script will be removed in the near future. Please use `labelme_export_json` instead.\u001B[0m\n",
      "2024-01-10 00:20:23,470 [\u001B[1m\u001B[33mWARNING\u001B[0m] \u001B[36mjson_to_dataset\u001B[0m:\u001B[36mmain\u001B[0m:\u001B[36m19\u001B[0m- \u001B[1m\u001B[33mNOTE: This script is aimed to demonstrate how to convert a JSON file to a single image dataset. so it won't handle multiple JSON files to generate a real-use dataset.\u001B[0m\n",
      "2024-01-10 00:21:36,352 [\u001B[1m\u001B[97mINFO   \u001B[0m] \u001B[36mjson_to_dataset\u001B[0m:\u001B[36mmain\u001B[0m:\u001B[36m76\u001B[0m- \u001B[1m\u001B[97mSaved to: labelled_images/swissimage-dop10_2021_2622-1264_0_1_2056_tif_json\u001B[0m\n",
      "2024-01-10 00:21:37,069 [\u001B[1m\u001B[33mWARNING\u001B[0m] \u001B[36mjson_to_dataset\u001B[0m:\u001B[36mmain\u001B[0m:\u001B[36m15\u001B[0m- \u001B[1m\u001B[33mDEPRECATED: This script will be removed in the near future. Please use `labelme_export_json` instead.\u001B[0m\n",
      "2024-01-10 00:21:37,070 [\u001B[1m\u001B[33mWARNING\u001B[0m] \u001B[36mjson_to_dataset\u001B[0m:\u001B[36mmain\u001B[0m:\u001B[36m19\u001B[0m- \u001B[1m\u001B[33mNOTE: This script is aimed to demonstrate how to convert a JSON file to a single image dataset. so it won't handle multiple JSON files to generate a real-use dataset.\u001B[0m\n",
      "2024-01-10 00:23:01,913 [\u001B[1m\u001B[97mINFO   \u001B[0m] \u001B[36mjson_to_dataset\u001B[0m:\u001B[36mmain\u001B[0m:\u001B[36m76\u001B[0m- \u001B[1m\u001B[97mSaved to: labelled_images/image_0_png_json\u001B[0m\n",
      "2024-01-10 00:23:02,568 [\u001B[1m\u001B[33mWARNING\u001B[0m] \u001B[36mjson_to_dataset\u001B[0m:\u001B[36mmain\u001B[0m:\u001B[36m15\u001B[0m- \u001B[1m\u001B[33mDEPRECATED: This script will be removed in the near future. Please use `labelme_export_json` instead.\u001B[0m\n",
      "2024-01-10 00:23:02,568 [\u001B[1m\u001B[33mWARNING\u001B[0m] \u001B[36mjson_to_dataset\u001B[0m:\u001B[36mmain\u001B[0m:\u001B[36m19\u001B[0m- \u001B[1m\u001B[33mNOTE: This script is aimed to demonstrate how to convert a JSON file to a single image dataset. so it won't handle multiple JSON files to generate a real-use dataset.\u001B[0m\n",
      "2024-01-10 00:24:20,024 [\u001B[1m\u001B[97mINFO   \u001B[0m] \u001B[36mjson_to_dataset\u001B[0m:\u001B[36mmain\u001B[0m:\u001B[36m76\u001B[0m- \u001B[1m\u001B[97mSaved to: labelled_images/image_1_png_json\u001B[0m\n",
      "2024-01-10 00:24:20,685 [\u001B[1m\u001B[33mWARNING\u001B[0m] \u001B[36mjson_to_dataset\u001B[0m:\u001B[36mmain\u001B[0m:\u001B[36m15\u001B[0m- \u001B[1m\u001B[33mDEPRECATED: This script will be removed in the near future. Please use `labelme_export_json` instead.\u001B[0m\n",
      "2024-01-10 00:24:20,685 [\u001B[1m\u001B[33mWARNING\u001B[0m] \u001B[36mjson_to_dataset\u001B[0m:\u001B[36mmain\u001B[0m:\u001B[36m19\u001B[0m- \u001B[1m\u001B[33mNOTE: This script is aimed to demonstrate how to convert a JSON file to a single image dataset. so it won't handle multiple JSON files to generate a real-use dataset.\u001B[0m\n",
      "2024-01-10 00:25:39,392 [\u001B[1m\u001B[97mINFO   \u001B[0m] \u001B[36mjson_to_dataset\u001B[0m:\u001B[36mmain\u001B[0m:\u001B[36m76\u001B[0m- \u001B[1m\u001B[97mSaved to: labelled_images/swissimage-dop10_2022_2674-1251_0_1_2056_tif_json\u001B[0m\n",
      "2024-01-10 00:25:40,045 [\u001B[1m\u001B[33mWARNING\u001B[0m] \u001B[36mjson_to_dataset\u001B[0m:\u001B[36mmain\u001B[0m:\u001B[36m15\u001B[0m- \u001B[1m\u001B[33mDEPRECATED: This script will be removed in the near future. Please use `labelme_export_json` instead.\u001B[0m\n",
      "2024-01-10 00:25:40,045 [\u001B[1m\u001B[33mWARNING\u001B[0m] \u001B[36mjson_to_dataset\u001B[0m:\u001B[36mmain\u001B[0m:\u001B[36m19\u001B[0m- \u001B[1m\u001B[33mNOTE: This script is aimed to demonstrate how to convert a JSON file to a single image dataset. so it won't handle multiple JSON files to generate a real-use dataset.\u001B[0m\n",
      "2024-01-10 00:26:53,868 [\u001B[1m\u001B[97mINFO   \u001B[0m] \u001B[36mjson_to_dataset\u001B[0m:\u001B[36mmain\u001B[0m:\u001B[36m76\u001B[0m- \u001B[1m\u001B[97mSaved to: labelled_images/Swiss_image_5_png_json\u001B[0m\n",
      "2024-01-10 00:26:54,475 [\u001B[1m\u001B[33mWARNING\u001B[0m] \u001B[36mjson_to_dataset\u001B[0m:\u001B[36mmain\u001B[0m:\u001B[36m15\u001B[0m- \u001B[1m\u001B[33mDEPRECATED: This script will be removed in the near future. Please use `labelme_export_json` instead.\u001B[0m\n",
      "2024-01-10 00:26:54,475 [\u001B[1m\u001B[33mWARNING\u001B[0m] \u001B[36mjson_to_dataset\u001B[0m:\u001B[36mmain\u001B[0m:\u001B[36m19\u001B[0m- \u001B[1m\u001B[33mNOTE: This script is aimed to demonstrate how to convert a JSON file to a single image dataset. so it won't handle multiple JSON files to generate a real-use dataset.\u001B[0m\n",
      "2024-01-10 00:28:14,821 [\u001B[1m\u001B[97mINFO   \u001B[0m] \u001B[36mjson_to_dataset\u001B[0m:\u001B[36mmain\u001B[0m:\u001B[36m76\u001B[0m- \u001B[1m\u001B[97mSaved to: labelled_images/image_6_png_json\u001B[0m\n",
      "2024-01-10 00:28:15,462 [\u001B[1m\u001B[33mWARNING\u001B[0m] \u001B[36mjson_to_dataset\u001B[0m:\u001B[36mmain\u001B[0m:\u001B[36m15\u001B[0m- \u001B[1m\u001B[33mDEPRECATED: This script will be removed in the near future. Please use `labelme_export_json` instead.\u001B[0m\n",
      "2024-01-10 00:28:15,462 [\u001B[1m\u001B[33mWARNING\u001B[0m] \u001B[36mjson_to_dataset\u001B[0m:\u001B[36mmain\u001B[0m:\u001B[36m19\u001B[0m- \u001B[1m\u001B[33mNOTE: This script is aimed to demonstrate how to convert a JSON file to a single image dataset. so it won't handle multiple JSON files to generate a real-use dataset.\u001B[0m\n",
      "2024-01-10 00:29:10,153 [\u001B[1m\u001B[97mINFO   \u001B[0m] \u001B[36mjson_to_dataset\u001B[0m:\u001B[36mmain\u001B[0m:\u001B[36m76\u001B[0m- \u001B[1m\u001B[97mSaved to: labelled_images/Swiss_image_2_png_json\u001B[0m\n",
      "2024-01-10 00:29:10,787 [\u001B[1m\u001B[33mWARNING\u001B[0m] \u001B[36mjson_to_dataset\u001B[0m:\u001B[36mmain\u001B[0m:\u001B[36m15\u001B[0m- \u001B[1m\u001B[33mDEPRECATED: This script will be removed in the near future. Please use `labelme_export_json` instead.\u001B[0m\n",
      "2024-01-10 00:29:10,787 [\u001B[1m\u001B[33mWARNING\u001B[0m] \u001B[36mjson_to_dataset\u001B[0m:\u001B[36mmain\u001B[0m:\u001B[36m19\u001B[0m- \u001B[1m\u001B[33mNOTE: This script is aimed to demonstrate how to convert a JSON file to a single image dataset. so it won't handle multiple JSON files to generate a real-use dataset.\u001B[0m\n",
      "2024-01-10 00:30:08,823 [\u001B[1m\u001B[97mINFO   \u001B[0m] \u001B[36mjson_to_dataset\u001B[0m:\u001B[36mmain\u001B[0m:\u001B[36m76\u001B[0m- \u001B[1m\u001B[97mSaved to: labelled_images/Swiss_image_3_png_json\u001B[0m\n",
      "2024-01-10 00:30:09,439 [\u001B[1m\u001B[33mWARNING\u001B[0m] \u001B[36mjson_to_dataset\u001B[0m:\u001B[36mmain\u001B[0m:\u001B[36m15\u001B[0m- \u001B[1m\u001B[33mDEPRECATED: This script will be removed in the near future. Please use `labelme_export_json` instead.\u001B[0m\n",
      "2024-01-10 00:30:09,439 [\u001B[1m\u001B[33mWARNING\u001B[0m] \u001B[36mjson_to_dataset\u001B[0m:\u001B[36mmain\u001B[0m:\u001B[36m19\u001B[0m- \u001B[1m\u001B[33mNOTE: This script is aimed to demonstrate how to convert a JSON file to a single image dataset. so it won't handle multiple JSON files to generate a real-use dataset.\u001B[0m\n",
      "Traceback (most recent call last):\n",
      "  File \"/Users/jan-philip/PycharmProjects/workbench/venv/bin/labelme_json_to_dataset\", line 8, in <module>\n",
      "    sys.exit(main())\n",
      "  File \"/Users/jan-philip/PycharmProjects/workbench/venv/lib/python3.9/site-packages/labelme/cli/json_to_dataset.py\", line 45, in main\n",
      "    with open(imagePath, \"rb\") as f:\n",
      "FileNotFoundError: [Errno 2] No such file or directory: 'labelled_images/export-result-2.ndjson'\n",
      "2024-01-10 00:30:09,918 [\u001B[1m\u001B[33mWARNING\u001B[0m] \u001B[36mjson_to_dataset\u001B[0m:\u001B[36mmain\u001B[0m:\u001B[36m15\u001B[0m- \u001B[1m\u001B[33mDEPRECATED: This script will be removed in the near future. Please use `labelme_export_json` instead.\u001B[0m\n",
      "2024-01-10 00:30:09,918 [\u001B[1m\u001B[33mWARNING\u001B[0m] \u001B[36mjson_to_dataset\u001B[0m:\u001B[36mmain\u001B[0m:\u001B[36m19\u001B[0m- \u001B[1m\u001B[33mNOTE: This script is aimed to demonstrate how to convert a JSON file to a single image dataset. so it won't handle multiple JSON files to generate a real-use dataset.\u001B[0m\n",
      "2024-01-10 00:31:09,815 [\u001B[1m\u001B[97mINFO   \u001B[0m] \u001B[36mjson_to_dataset\u001B[0m:\u001B[36mmain\u001B[0m:\u001B[36m76\u001B[0m- \u001B[1m\u001B[97mSaved to: labelled_images/Swiss_image_6_tiff_json\u001B[0m\n",
      "2024-01-10 00:31:10,438 [\u001B[1m\u001B[33mWARNING\u001B[0m] \u001B[36mjson_to_dataset\u001B[0m:\u001B[36mmain\u001B[0m:\u001B[36m15\u001B[0m- \u001B[1m\u001B[33mDEPRECATED: This script will be removed in the near future. Please use `labelme_export_json` instead.\u001B[0m\n",
      "2024-01-10 00:31:10,438 [\u001B[1m\u001B[33mWARNING\u001B[0m] \u001B[36mjson_to_dataset\u001B[0m:\u001B[36mmain\u001B[0m:\u001B[36m19\u001B[0m- \u001B[1m\u001B[33mNOTE: This script is aimed to demonstrate how to convert a JSON file to a single image dataset. so it won't handle multiple JSON files to generate a real-use dataset.\u001B[0m\n",
      "Traceback (most recent call last):\n",
      "  File \"/Users/jan-philip/PycharmProjects/workbench/venv/bin/labelme_json_to_dataset\", line 8, in <module>\n",
      "    sys.exit(main())\n",
      "  File \"/Users/jan-philip/PycharmProjects/workbench/venv/lib/python3.9/site-packages/labelme/cli/json_to_dataset.py\", line 45, in main\n",
      "    with open(imagePath, \"rb\") as f:\n",
      "FileNotFoundError: [Errno 2] No such file or directory: 'labelled_images/export-result.ndjson'\n",
      "2024-01-10 00:31:10,933 [\u001B[1m\u001B[33mWARNING\u001B[0m] \u001B[36mjson_to_dataset\u001B[0m:\u001B[36mmain\u001B[0m:\u001B[36m15\u001B[0m- \u001B[1m\u001B[33mDEPRECATED: This script will be removed in the near future. Please use `labelme_export_json` instead.\u001B[0m\n",
      "2024-01-10 00:31:10,933 [\u001B[1m\u001B[33mWARNING\u001B[0m] \u001B[36mjson_to_dataset\u001B[0m:\u001B[36mmain\u001B[0m:\u001B[36m19\u001B[0m- \u001B[1m\u001B[33mNOTE: This script is aimed to demonstrate how to convert a JSON file to a single image dataset. so it won't handle multiple JSON files to generate a real-use dataset.\u001B[0m\n",
      "2024-01-10 00:32:44,517 [\u001B[1m\u001B[97mINFO   \u001B[0m] \u001B[36mjson_to_dataset\u001B[0m:\u001B[36mmain\u001B[0m:\u001B[36m76\u001B[0m- \u001B[1m\u001B[97mSaved to: labelled_images/swissimage-dop10_2022_2679-1253_0_1_2056_tif_json\u001B[0m\n",
      "2024-01-10 00:32:45,214 [\u001B[1m\u001B[33mWARNING\u001B[0m] \u001B[36mjson_to_dataset\u001B[0m:\u001B[36mmain\u001B[0m:\u001B[36m15\u001B[0m- \u001B[1m\u001B[33mDEPRECATED: This script will be removed in the near future. Please use `labelme_export_json` instead.\u001B[0m\n",
      "2024-01-10 00:32:45,214 [\u001B[1m\u001B[33mWARNING\u001B[0m] \u001B[36mjson_to_dataset\u001B[0m:\u001B[36mmain\u001B[0m:\u001B[36m19\u001B[0m- \u001B[1m\u001B[33mNOTE: This script is aimed to demonstrate how to convert a JSON file to a single image dataset. so it won't handle multiple JSON files to generate a real-use dataset.\u001B[0m\n",
      "2024-01-10 00:33:56,904 [\u001B[1m\u001B[97mINFO   \u001B[0m] \u001B[36mjson_to_dataset\u001B[0m:\u001B[36mmain\u001B[0m:\u001B[36m76\u001B[0m- \u001B[1m\u001B[97mSaved to: labelled_images/Swiss_image_7_png_json\u001B[0m\n",
      "2024-01-10 00:33:57,556 [\u001B[1m\u001B[33mWARNING\u001B[0m] \u001B[36mjson_to_dataset\u001B[0m:\u001B[36mmain\u001B[0m:\u001B[36m15\u001B[0m- \u001B[1m\u001B[33mDEPRECATED: This script will be removed in the near future. Please use `labelme_export_json` instead.\u001B[0m\n",
      "2024-01-10 00:33:57,556 [\u001B[1m\u001B[33mWARNING\u001B[0m] \u001B[36mjson_to_dataset\u001B[0m:\u001B[36mmain\u001B[0m:\u001B[36m19\u001B[0m- \u001B[1m\u001B[33mNOTE: This script is aimed to demonstrate how to convert a JSON file to a single image dataset. so it won't handle multiple JSON files to generate a real-use dataset.\u001B[0m\n",
      "2024-01-10 00:35:14,927 [\u001B[1m\u001B[97mINFO   \u001B[0m] \u001B[36mjson_to_dataset\u001B[0m:\u001B[36mmain\u001B[0m:\u001B[36m76\u001B[0m- \u001B[1m\u001B[97mSaved to: labelled_images/image_3_png_json\u001B[0m\n",
      "2024-01-10 00:35:15,634 [\u001B[1m\u001B[33mWARNING\u001B[0m] \u001B[36mjson_to_dataset\u001B[0m:\u001B[36mmain\u001B[0m:\u001B[36m15\u001B[0m- \u001B[1m\u001B[33mDEPRECATED: This script will be removed in the near future. Please use `labelme_export_json` instead.\u001B[0m\n",
      "2024-01-10 00:35:15,634 [\u001B[1m\u001B[33mWARNING\u001B[0m] \u001B[36mjson_to_dataset\u001B[0m:\u001B[36mmain\u001B[0m:\u001B[36m19\u001B[0m- \u001B[1m\u001B[33mNOTE: This script is aimed to demonstrate how to convert a JSON file to a single image dataset. so it won't handle multiple JSON files to generate a real-use dataset.\u001B[0m\n",
      "2024-01-10 00:36:18,682 [\u001B[1m\u001B[97mINFO   \u001B[0m] \u001B[36mjson_to_dataset\u001B[0m:\u001B[36mmain\u001B[0m:\u001B[36m76\u001B[0m- \u001B[1m\u001B[97mSaved to: labelled_images/swissimage-dop10_2021_2671-1248_0_1_2056_tif_json\u001B[0m\n",
      "2024-01-10 00:36:19,451 [\u001B[1m\u001B[33mWARNING\u001B[0m] \u001B[36mjson_to_dataset\u001B[0m:\u001B[36mmain\u001B[0m:\u001B[36m15\u001B[0m- \u001B[1m\u001B[33mDEPRECATED: This script will be removed in the near future. Please use `labelme_export_json` instead.\u001B[0m\n",
      "2024-01-10 00:36:19,452 [\u001B[1m\u001B[33mWARNING\u001B[0m] \u001B[36mjson_to_dataset\u001B[0m:\u001B[36mmain\u001B[0m:\u001B[36m19\u001B[0m- \u001B[1m\u001B[33mNOTE: This script is aimed to demonstrate how to convert a JSON file to a single image dataset. so it won't handle multiple JSON files to generate a real-use dataset.\u001B[0m\n",
      "Traceback (most recent call last):\n",
      "  File \"/Users/jan-philip/PycharmProjects/workbench/venv/bin/labelme_json_to_dataset\", line 8, in <module>\n",
      "    sys.exit(main())\n",
      "  File \"/Users/jan-philip/PycharmProjects/workbench/venv/lib/python3.9/site-packages/labelme/cli/json_to_dataset.py\", line 40, in main\n",
      "    data = json.load(open(json_file))\n",
      "  File \"/Library/Developer/CommandLineTools/Library/Frameworks/Python3.framework/Versions/3.9/lib/python3.9/json/__init__.py\", line 293, in load\n",
      "    return loads(fp.read(),\n",
      "  File \"/Library/Developer/CommandLineTools/Library/Frameworks/Python3.framework/Versions/3.9/lib/python3.9/json/__init__.py\", line 346, in loads\n",
      "    return _default_decoder.decode(s)\n",
      "  File \"/Library/Developer/CommandLineTools/Library/Frameworks/Python3.framework/Versions/3.9/lib/python3.9/json/decoder.py\", line 337, in decode\n",
      "    obj, end = self.raw_decode(s, idx=_w(s, 0).end())\n",
      "  File \"/Library/Developer/CommandLineTools/Library/Frameworks/Python3.framework/Versions/3.9/lib/python3.9/json/decoder.py\", line 353, in raw_decode\n",
      "    obj, end = self.scan_once(s, idx)\n",
      "json.decoder.JSONDecodeError: Expecting ',' delimiter: line 1 column 335612 (char 335611)\n",
      "2024-01-10 00:36:19,994 [\u001B[1m\u001B[33mWARNING\u001B[0m] \u001B[36mjson_to_dataset\u001B[0m:\u001B[36mmain\u001B[0m:\u001B[36m15\u001B[0m- \u001B[1m\u001B[33mDEPRECATED: This script will be removed in the near future. Please use `labelme_export_json` instead.\u001B[0m\n",
      "2024-01-10 00:36:19,994 [\u001B[1m\u001B[33mWARNING\u001B[0m] \u001B[36mjson_to_dataset\u001B[0m:\u001B[36mmain\u001B[0m:\u001B[36m19\u001B[0m- \u001B[1m\u001B[33mNOTE: This script is aimed to demonstrate how to convert a JSON file to a single image dataset. so it won't handle multiple JSON files to generate a real-use dataset.\u001B[0m\n",
      "2024-01-10 00:37:17,864 [\u001B[1m\u001B[97mINFO   \u001B[0m] \u001B[36mjson_to_dataset\u001B[0m:\u001B[36mmain\u001B[0m:\u001B[36m76\u001B[0m- \u001B[1m\u001B[97mSaved to: labelled_images/Swiss_image_1_png_json\u001B[0m\n",
      "2024-01-10 00:37:18,532 [\u001B[1m\u001B[33mWARNING\u001B[0m] \u001B[36mjson_to_dataset\u001B[0m:\u001B[36mmain\u001B[0m:\u001B[36m15\u001B[0m- \u001B[1m\u001B[33mDEPRECATED: This script will be removed in the near future. Please use `labelme_export_json` instead.\u001B[0m\n",
      "2024-01-10 00:37:18,532 [\u001B[1m\u001B[33mWARNING\u001B[0m] \u001B[36mjson_to_dataset\u001B[0m:\u001B[36mmain\u001B[0m:\u001B[36m19\u001B[0m- \u001B[1m\u001B[33mNOTE: This script is aimed to demonstrate how to convert a JSON file to a single image dataset. so it won't handle multiple JSON files to generate a real-use dataset.\u001B[0m\n",
      "2024-01-10 00:38:51,525 [\u001B[1m\u001B[97mINFO   \u001B[0m] \u001B[36mjson_to_dataset\u001B[0m:\u001B[36mmain\u001B[0m:\u001B[36m76\u001B[0m- \u001B[1m\u001B[97mSaved to: labelled_images/Swiss_image_4_tiff_json\u001B[0m\n",
      "2024-01-10 00:38:52,201 [\u001B[1m\u001B[33mWARNING\u001B[0m] \u001B[36mjson_to_dataset\u001B[0m:\u001B[36mmain\u001B[0m:\u001B[36m15\u001B[0m- \u001B[1m\u001B[33mDEPRECATED: This script will be removed in the near future. Please use `labelme_export_json` instead.\u001B[0m\n",
      "2024-01-10 00:38:52,201 [\u001B[1m\u001B[33mWARNING\u001B[0m] \u001B[36mjson_to_dataset\u001B[0m:\u001B[36mmain\u001B[0m:\u001B[36m19\u001B[0m- \u001B[1m\u001B[33mNOTE: This script is aimed to demonstrate how to convert a JSON file to a single image dataset. so it won't handle multiple JSON files to generate a real-use dataset.\u001B[0m\n",
      "2024-01-10 00:39:53,110 [\u001B[1m\u001B[97mINFO   \u001B[0m] \u001B[36mjson_to_dataset\u001B[0m:\u001B[36mmain\u001B[0m:\u001B[36m76\u001B[0m- \u001B[1m\u001B[97mSaved to: labelled_images/swissimage-dop10_2022_2675-1246_0_1_2056_tif_json\u001B[0m\n",
      "2024-01-10 00:39:53,765 [\u001B[1m\u001B[33mWARNING\u001B[0m] \u001B[36mjson_to_dataset\u001B[0m:\u001B[36mmain\u001B[0m:\u001B[36m15\u001B[0m- \u001B[1m\u001B[33mDEPRECATED: This script will be removed in the near future. Please use `labelme_export_json` instead.\u001B[0m\n",
      "2024-01-10 00:39:53,765 [\u001B[1m\u001B[33mWARNING\u001B[0m] \u001B[36mjson_to_dataset\u001B[0m:\u001B[36mmain\u001B[0m:\u001B[36m19\u001B[0m- \u001B[1m\u001B[33mNOTE: This script is aimed to demonstrate how to convert a JSON file to a single image dataset. so it won't handle multiple JSON files to generate a real-use dataset.\u001B[0m\n",
      "2024-01-10 00:41:10,947 [\u001B[1m\u001B[97mINFO   \u001B[0m] \u001B[36mjson_to_dataset\u001B[0m:\u001B[36mmain\u001B[0m:\u001B[36m76\u001B[0m- \u001B[1m\u001B[97mSaved to: labelled_images/image_5_png_json\u001B[0m\n"
     ]
    }
   ],
   "source": [
    "import os\n",
    "\n",
    "def labelme_json_to_dataset(json_path):\n",
    "    os.system(\"labelme_json_to_dataset \"+json_path)\n",
    "    \n",
    "for file in os.listdir(\"labelled_images\"):\n",
    "    if file.endswith(\".json\"):\n",
    "        labelme_json_to_dataset(\"labelled_images/\"+file)\n"
   ],
   "metadata": {
    "collapsed": false,
    "ExecuteTime": {
     "end_time": "2024-01-09T23:41:11.078647Z",
     "start_time": "2024-01-09T23:20:22.712396Z"
    }
   },
   "id": "340ccc141ecc918a"
  },
  {
   "cell_type": "code",
   "execution_count": 3,
   "outputs": [],
   "source": [
    "# move all folders in labelled_images to labelled_images_as_masks\n",
    "for file in os.listdir(\"labelled_images\"):\n",
    "    if file.endswith(\"_json\"):\n",
    "        os.rename(\"labelled_images/\"+file, \"labelled_images_as_masks/\"+file)"
   ],
   "metadata": {
    "collapsed": false,
    "ExecuteTime": {
     "end_time": "2024-01-09T23:56:46.726178Z",
     "start_time": "2024-01-09T23:56:46.714844Z"
    }
   },
   "id": "ae62c61eed39f10"
  },
  {
   "cell_type": "code",
   "execution_count": null,
   "id": "initial_id",
   "metadata": {
    "collapsed": true,
    "is_executing": true
   },
   "outputs": [],
   "source": [
    "from PIL import Image\n",
    "\n",
    "def split_image(image_path, split_width, split_height):\n",
    "    # Open the image\n",
    "    img = Image.open(image_path)\n",
    "\n",
    "    # Calculate the number of splits\n",
    "    img_width, img_height = img.size\n",
    "    rows = img_height // split_height\n",
    "    cols = img_width // split_width\n",
    "\n",
    "    # Create a list to hold the split images\n",
    "    split_images = []\n",
    "\n",
    "    # Split the image and add to the list\n",
    "    for i in range(rows):\n",
    "        for j in range(cols):\n",
    "            left = j * split_width\n",
    "            top = i * split_height\n",
    "            right = (j + 1) * split_width\n",
    "            bottom = (i + 1) * split_height\n",
    "\n",
    "            # Crop the image and append to the list\n",
    "            split_images.append(img.crop((left, top, right, bottom)))\n",
    "\n",
    "    return split_images\n",
    "\n",
    "\n",
    "\n"
   ]
  },
  {
   "cell_type": "code",
   "execution_count": null,
   "outputs": [],
   "source": [
    " for folder in os.listdir(\"labelled_images_as_masks\"):\n",
    "        if folder.endswith(\".json\") or not folder.endswith(\"_json\"):\n",
    "            continue\n",
    "        if os.path.exists(\"labelled_images_splitted/\" + folder):\n",
    "            continue\n",
    "        os.mkdir(\"labelled_images_splitted/\" + folder)\n",
    "        print(folder)\n",
    "        for file in os.listdir(\"labelled_images_as_masks/\" + folder):\n",
    "            if file.endswith(\".png\"):\n",
    "                split_images = split_image(\"labelled_images_as_masks/\" + folder + \"/\" + file, 1000, 1000)\n",
    "                for i in range(len(split_images)):\n",
    "                    if not os.path.exists(\"labelled_images_splitted/\" + folder + \"/split\" + str(i)):\n",
    "                        os.mkdir(\"labelled_images_splitted/\" + folder + \"/split\" + str(i))\n",
    "                    split_images[i].save(\n",
    "                        \"labelled_images_splitted/\" + folder + \"/split\" + str(i) + \"/\" + file[:-4] + \"_\" + str(\n",
    "                            i) + \".png\")"
   ],
   "metadata": {
    "collapsed": false
   },
   "id": "3ee1ac16ae756a9f"
  }
 ],
 "metadata": {
  "kernelspec": {
   "display_name": "Python 3",
   "language": "python",
   "name": "python3"
  },
  "language_info": {
   "codemirror_mode": {
    "name": "ipython",
    "version": 2
   },
   "file_extension": ".py",
   "mimetype": "text/x-python",
   "name": "python",
   "nbconvert_exporter": "python",
   "pygments_lexer": "ipython2",
   "version": "2.7.6"
  }
 },
 "nbformat": 4,
 "nbformat_minor": 5
}
