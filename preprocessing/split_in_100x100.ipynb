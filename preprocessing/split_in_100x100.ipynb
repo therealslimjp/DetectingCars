{
 "cells": [
  {
   "cell_type": "code",
   "execution_count": null,
   "outputs": [],
   "source": [
    "# convert all images to voc format"
   ],
   "metadata": {
    "collapsed": false
   },
   "id": "8e6b6199a5aa577c"
  },
  {
   "cell_type": "code",
   "execution_count": 2,
   "outputs": [
    {
     "data": {
      "text/plain": "['swissimage-dop10_2022_2679-1253_0.1_2056.json',\n 'swissimage-dop10_2021_2598-1209_0.1_2056.json',\n 'swissimage-dop10_2021_2628-1266_0.1_2056.json',\n '.DS_Store',\n 'swissimage-dop10_2022_2675-1246_0.1_2056.json',\n 'swissimage-dop10_2022_2674-1247_0.1_2056.json',\n 'swissimage-dop10_2021_2612-1175_0.1_2056.json',\n 'swissimage-dop10_2021_2608-1265_0.1_2056.json',\n 'swissimage-dop10_2021_2622-1264_0.1_2056.json',\n 'swissimage-dop10_2021_2596-1210_0.1_2056.json',\n 'swissimage-dop10_2021_2630-1266_0.1_2056.json',\n 'swissimage-dop10_2021_2608-1268_0.1_2056.json',\n 'swissimage-dop10_2021_2671-1248_0.1_2056.json',\n 'swissimage-dop10_2021_2631-1266_0.1_2056.json',\n 'swissimage-dop10_2021_2597-1209_0.1_2056.json',\n 'swissimage-dop10_2021_2624-1265_0.1_2056.json',\n 'swissimage-dop10_2022_2674-1251_0.1_2056.json',\n 'swissimage-dop10_2021_2612-1174_0.1_2056.json',\n 'swissimage-dop10_2021_2624-1266_0.1_2056.json',\n 'swissimage-dop10_2021_2629-1266_0.1_2056.json']"
     },
     "execution_count": 2,
     "metadata": {},
     "output_type": "execute_result"
    }
   ],
   "source": [
    "import os\n",
    "os.listdir(\"labelled_images/\")"
   ],
   "metadata": {
    "collapsed": false,
    "ExecuteTime": {
     "end_time": "2024-01-18T20:51:03.389171Z",
     "start_time": "2024-01-18T20:51:03.382079Z"
    }
   },
   "id": "814458497a7f3b26"
  },
  {
   "cell_type": "code",
   "execution_count": 3,
   "outputs": [
    {
     "name": "stderr",
     "output_type": "stream",
     "text": [
      "2024-01-18 21:51:22,256 [\u001B[1m\u001B[33mWARNING\u001B[0m] \u001B[36mjson_to_dataset\u001B[0m:\u001B[36mmain\u001B[0m:\u001B[36m15\u001B[0m- \u001B[1m\u001B[33mDEPRECATED: This script will be removed in the near future. Please use `labelme_export_json` instead.\u001B[0m\n",
      "2024-01-18 21:51:22,256 [\u001B[1m\u001B[33mWARNING\u001B[0m] \u001B[36mjson_to_dataset\u001B[0m:\u001B[36mmain\u001B[0m:\u001B[36m19\u001B[0m- \u001B[1m\u001B[33mNOTE: This script is aimed to demonstrate how to convert a JSON file to a single image dataset. so it won't handle multiple JSON files to generate a real-use dataset.\u001B[0m\n",
      "2024-01-18 21:52:06,543 [\u001B[1m\u001B[97mINFO   \u001B[0m] \u001B[36mjson_to_dataset\u001B[0m:\u001B[36mmain\u001B[0m:\u001B[36m76\u001B[0m- \u001B[1m\u001B[97mSaved to: labelled_images/swissimage-dop10_2022_2679-1253_0_1_2056_json\u001B[0m\n",
      "2024-01-18 21:52:07,051 [\u001B[1m\u001B[33mWARNING\u001B[0m] \u001B[36mjson_to_dataset\u001B[0m:\u001B[36mmain\u001B[0m:\u001B[36m15\u001B[0m- \u001B[1m\u001B[33mDEPRECATED: This script will be removed in the near future. Please use `labelme_export_json` instead.\u001B[0m\n",
      "2024-01-18 21:52:07,051 [\u001B[1m\u001B[33mWARNING\u001B[0m] \u001B[36mjson_to_dataset\u001B[0m:\u001B[36mmain\u001B[0m:\u001B[36m19\u001B[0m- \u001B[1m\u001B[33mNOTE: This script is aimed to demonstrate how to convert a JSON file to a single image dataset. so it won't handle multiple JSON files to generate a real-use dataset.\u001B[0m\n",
      "2024-01-18 21:52:47,726 [\u001B[1m\u001B[97mINFO   \u001B[0m] \u001B[36mjson_to_dataset\u001B[0m:\u001B[36mmain\u001B[0m:\u001B[36m76\u001B[0m- \u001B[1m\u001B[97mSaved to: labelled_images/swissimage-dop10_2021_2598-1209_0_1_2056_json\u001B[0m\n",
      "2024-01-18 21:52:48,213 [\u001B[1m\u001B[33mWARNING\u001B[0m] \u001B[36mjson_to_dataset\u001B[0m:\u001B[36mmain\u001B[0m:\u001B[36m15\u001B[0m- \u001B[1m\u001B[33mDEPRECATED: This script will be removed in the near future. Please use `labelme_export_json` instead.\u001B[0m\n",
      "2024-01-18 21:52:48,213 [\u001B[1m\u001B[33mWARNING\u001B[0m] \u001B[36mjson_to_dataset\u001B[0m:\u001B[36mmain\u001B[0m:\u001B[36m19\u001B[0m- \u001B[1m\u001B[33mNOTE: This script is aimed to demonstrate how to convert a JSON file to a single image dataset. so it won't handle multiple JSON files to generate a real-use dataset.\u001B[0m\n",
      "2024-01-18 21:53:28,218 [\u001B[1m\u001B[97mINFO   \u001B[0m] \u001B[36mjson_to_dataset\u001B[0m:\u001B[36mmain\u001B[0m:\u001B[36m76\u001B[0m- \u001B[1m\u001B[97mSaved to: labelled_images/swissimage-dop10_2021_2628-1266_0_1_2056_json\u001B[0m\n",
      "2024-01-18 21:53:28,731 [\u001B[1m\u001B[33mWARNING\u001B[0m] \u001B[36mjson_to_dataset\u001B[0m:\u001B[36mmain\u001B[0m:\u001B[36m15\u001B[0m- \u001B[1m\u001B[33mDEPRECATED: This script will be removed in the near future. Please use `labelme_export_json` instead.\u001B[0m\n",
      "2024-01-18 21:53:28,731 [\u001B[1m\u001B[33mWARNING\u001B[0m] \u001B[36mjson_to_dataset\u001B[0m:\u001B[36mmain\u001B[0m:\u001B[36m19\u001B[0m- \u001B[1m\u001B[33mNOTE: This script is aimed to demonstrate how to convert a JSON file to a single image dataset. so it won't handle multiple JSON files to generate a real-use dataset.\u001B[0m\n",
      "2024-01-18 21:54:10,920 [\u001B[1m\u001B[97mINFO   \u001B[0m] \u001B[36mjson_to_dataset\u001B[0m:\u001B[36mmain\u001B[0m:\u001B[36m76\u001B[0m- \u001B[1m\u001B[97mSaved to: labelled_images/swissimage-dop10_2022_2675-1246_0_1_2056_json\u001B[0m\n",
      "2024-01-18 21:54:11,386 [\u001B[1m\u001B[33mWARNING\u001B[0m] \u001B[36mjson_to_dataset\u001B[0m:\u001B[36mmain\u001B[0m:\u001B[36m15\u001B[0m- \u001B[1m\u001B[33mDEPRECATED: This script will be removed in the near future. Please use `labelme_export_json` instead.\u001B[0m\n",
      "2024-01-18 21:54:11,386 [\u001B[1m\u001B[33mWARNING\u001B[0m] \u001B[36mjson_to_dataset\u001B[0m:\u001B[36mmain\u001B[0m:\u001B[36m19\u001B[0m- \u001B[1m\u001B[33mNOTE: This script is aimed to demonstrate how to convert a JSON file to a single image dataset. so it won't handle multiple JSON files to generate a real-use dataset.\u001B[0m\n",
      "2024-01-18 21:54:52,926 [\u001B[1m\u001B[97mINFO   \u001B[0m] \u001B[36mjson_to_dataset\u001B[0m:\u001B[36mmain\u001B[0m:\u001B[36m76\u001B[0m- \u001B[1m\u001B[97mSaved to: labelled_images/swissimage-dop10_2022_2674-1247_0_1_2056_json\u001B[0m\n",
      "2024-01-18 21:54:53,437 [\u001B[1m\u001B[33mWARNING\u001B[0m] \u001B[36mjson_to_dataset\u001B[0m:\u001B[36mmain\u001B[0m:\u001B[36m15\u001B[0m- \u001B[1m\u001B[33mDEPRECATED: This script will be removed in the near future. Please use `labelme_export_json` instead.\u001B[0m\n",
      "2024-01-18 21:54:53,437 [\u001B[1m\u001B[33mWARNING\u001B[0m] \u001B[36mjson_to_dataset\u001B[0m:\u001B[36mmain\u001B[0m:\u001B[36m19\u001B[0m- \u001B[1m\u001B[33mNOTE: This script is aimed to demonstrate how to convert a JSON file to a single image dataset. so it won't handle multiple JSON files to generate a real-use dataset.\u001B[0m\n",
      "2024-01-18 21:55:33,601 [\u001B[1m\u001B[97mINFO   \u001B[0m] \u001B[36mjson_to_dataset\u001B[0m:\u001B[36mmain\u001B[0m:\u001B[36m76\u001B[0m- \u001B[1m\u001B[97mSaved to: labelled_images/swissimage-dop10_2021_2612-1175_0_1_2056_json\u001B[0m\n",
      "2024-01-18 21:55:34,120 [\u001B[1m\u001B[33mWARNING\u001B[0m] \u001B[36mjson_to_dataset\u001B[0m:\u001B[36mmain\u001B[0m:\u001B[36m15\u001B[0m- \u001B[1m\u001B[33mDEPRECATED: This script will be removed in the near future. Please use `labelme_export_json` instead.\u001B[0m\n",
      "2024-01-18 21:55:34,120 [\u001B[1m\u001B[33mWARNING\u001B[0m] \u001B[36mjson_to_dataset\u001B[0m:\u001B[36mmain\u001B[0m:\u001B[36m19\u001B[0m- \u001B[1m\u001B[33mNOTE: This script is aimed to demonstrate how to convert a JSON file to a single image dataset. so it won't handle multiple JSON files to generate a real-use dataset.\u001B[0m\n",
      "2024-01-18 21:56:15,130 [\u001B[1m\u001B[97mINFO   \u001B[0m] \u001B[36mjson_to_dataset\u001B[0m:\u001B[36mmain\u001B[0m:\u001B[36m76\u001B[0m- \u001B[1m\u001B[97mSaved to: labelled_images/swissimage-dop10_2021_2608-1265_0_1_2056_json\u001B[0m\n",
      "2024-01-18 21:56:15,630 [\u001B[1m\u001B[33mWARNING\u001B[0m] \u001B[36mjson_to_dataset\u001B[0m:\u001B[36mmain\u001B[0m:\u001B[36m15\u001B[0m- \u001B[1m\u001B[33mDEPRECATED: This script will be removed in the near future. Please use `labelme_export_json` instead.\u001B[0m\n",
      "2024-01-18 21:56:15,630 [\u001B[1m\u001B[33mWARNING\u001B[0m] \u001B[36mjson_to_dataset\u001B[0m:\u001B[36mmain\u001B[0m:\u001B[36m19\u001B[0m- \u001B[1m\u001B[33mNOTE: This script is aimed to demonstrate how to convert a JSON file to a single image dataset. so it won't handle multiple JSON files to generate a real-use dataset.\u001B[0m\n",
      "2024-01-18 21:56:57,662 [\u001B[1m\u001B[97mINFO   \u001B[0m] \u001B[36mjson_to_dataset\u001B[0m:\u001B[36mmain\u001B[0m:\u001B[36m76\u001B[0m- \u001B[1m\u001B[97mSaved to: labelled_images/swissimage-dop10_2021_2622-1264_0_1_2056_json\u001B[0m\n",
      "2024-01-18 21:56:58,288 [\u001B[1m\u001B[33mWARNING\u001B[0m] \u001B[36mjson_to_dataset\u001B[0m:\u001B[36mmain\u001B[0m:\u001B[36m15\u001B[0m- \u001B[1m\u001B[33mDEPRECATED: This script will be removed in the near future. Please use `labelme_export_json` instead.\u001B[0m\n",
      "2024-01-18 21:56:58,289 [\u001B[1m\u001B[33mWARNING\u001B[0m] \u001B[36mjson_to_dataset\u001B[0m:\u001B[36mmain\u001B[0m:\u001B[36m19\u001B[0m- \u001B[1m\u001B[33mNOTE: This script is aimed to demonstrate how to convert a JSON file to a single image dataset. so it won't handle multiple JSON files to generate a real-use dataset.\u001B[0m\n",
      "2024-01-18 21:57:39,038 [\u001B[1m\u001B[97mINFO   \u001B[0m] \u001B[36mjson_to_dataset\u001B[0m:\u001B[36mmain\u001B[0m:\u001B[36m76\u001B[0m- \u001B[1m\u001B[97mSaved to: labelled_images/swissimage-dop10_2021_2596-1210_0_1_2056_json\u001B[0m\n",
      "2024-01-18 21:57:39,556 [\u001B[1m\u001B[33mWARNING\u001B[0m] \u001B[36mjson_to_dataset\u001B[0m:\u001B[36mmain\u001B[0m:\u001B[36m15\u001B[0m- \u001B[1m\u001B[33mDEPRECATED: This script will be removed in the near future. Please use `labelme_export_json` instead.\u001B[0m\n",
      "2024-01-18 21:57:39,556 [\u001B[1m\u001B[33mWARNING\u001B[0m] \u001B[36mjson_to_dataset\u001B[0m:\u001B[36mmain\u001B[0m:\u001B[36m19\u001B[0m- \u001B[1m\u001B[33mNOTE: This script is aimed to demonstrate how to convert a JSON file to a single image dataset. so it won't handle multiple JSON files to generate a real-use dataset.\u001B[0m\n",
      "2024-01-18 21:58:20,467 [\u001B[1m\u001B[97mINFO   \u001B[0m] \u001B[36mjson_to_dataset\u001B[0m:\u001B[36mmain\u001B[0m:\u001B[36m76\u001B[0m- \u001B[1m\u001B[97mSaved to: labelled_images/swissimage-dop10_2021_2630-1266_0_1_2056_json\u001B[0m\n",
      "2024-01-18 21:58:20,988 [\u001B[1m\u001B[33mWARNING\u001B[0m] \u001B[36mjson_to_dataset\u001B[0m:\u001B[36mmain\u001B[0m:\u001B[36m15\u001B[0m- \u001B[1m\u001B[33mDEPRECATED: This script will be removed in the near future. Please use `labelme_export_json` instead.\u001B[0m\n",
      "2024-01-18 21:58:20,988 [\u001B[1m\u001B[33mWARNING\u001B[0m] \u001B[36mjson_to_dataset\u001B[0m:\u001B[36mmain\u001B[0m:\u001B[36m19\u001B[0m- \u001B[1m\u001B[33mNOTE: This script is aimed to demonstrate how to convert a JSON file to a single image dataset. so it won't handle multiple JSON files to generate a real-use dataset.\u001B[0m\n",
      "2024-01-18 21:59:03,869 [\u001B[1m\u001B[97mINFO   \u001B[0m] \u001B[36mjson_to_dataset\u001B[0m:\u001B[36mmain\u001B[0m:\u001B[36m76\u001B[0m- \u001B[1m\u001B[97mSaved to: labelled_images/swissimage-dop10_2021_2608-1268_0_1_2056_json\u001B[0m\n",
      "2024-01-18 21:59:04,558 [\u001B[1m\u001B[33mWARNING\u001B[0m] \u001B[36mjson_to_dataset\u001B[0m:\u001B[36mmain\u001B[0m:\u001B[36m15\u001B[0m- \u001B[1m\u001B[33mDEPRECATED: This script will be removed in the near future. Please use `labelme_export_json` instead.\u001B[0m\n",
      "2024-01-18 21:59:04,558 [\u001B[1m\u001B[33mWARNING\u001B[0m] \u001B[36mjson_to_dataset\u001B[0m:\u001B[36mmain\u001B[0m:\u001B[36m19\u001B[0m- \u001B[1m\u001B[33mNOTE: This script is aimed to demonstrate how to convert a JSON file to a single image dataset. so it won't handle multiple JSON files to generate a real-use dataset.\u001B[0m\n",
      "2024-01-18 21:59:46,148 [\u001B[1m\u001B[97mINFO   \u001B[0m] \u001B[36mjson_to_dataset\u001B[0m:\u001B[36mmain\u001B[0m:\u001B[36m76\u001B[0m- \u001B[1m\u001B[97mSaved to: labelled_images/swissimage-dop10_2021_2671-1248_0_1_2056_json\u001B[0m\n",
      "2024-01-18 21:59:46,649 [\u001B[1m\u001B[33mWARNING\u001B[0m] \u001B[36mjson_to_dataset\u001B[0m:\u001B[36mmain\u001B[0m:\u001B[36m15\u001B[0m- \u001B[1m\u001B[33mDEPRECATED: This script will be removed in the near future. Please use `labelme_export_json` instead.\u001B[0m\n",
      "2024-01-18 21:59:46,649 [\u001B[1m\u001B[33mWARNING\u001B[0m] \u001B[36mjson_to_dataset\u001B[0m:\u001B[36mmain\u001B[0m:\u001B[36m19\u001B[0m- \u001B[1m\u001B[33mNOTE: This script is aimed to demonstrate how to convert a JSON file to a single image dataset. so it won't handle multiple JSON files to generate a real-use dataset.\u001B[0m\n",
      "2024-01-18 22:00:28,224 [\u001B[1m\u001B[97mINFO   \u001B[0m] \u001B[36mjson_to_dataset\u001B[0m:\u001B[36mmain\u001B[0m:\u001B[36m76\u001B[0m- \u001B[1m\u001B[97mSaved to: labelled_images/swissimage-dop10_2021_2631-1266_0_1_2056_json\u001B[0m\n",
      "2024-01-18 22:00:28,857 [\u001B[1m\u001B[33mWARNING\u001B[0m] \u001B[36mjson_to_dataset\u001B[0m:\u001B[36mmain\u001B[0m:\u001B[36m15\u001B[0m- \u001B[1m\u001B[33mDEPRECATED: This script will be removed in the near future. Please use `labelme_export_json` instead.\u001B[0m\n",
      "2024-01-18 22:00:28,857 [\u001B[1m\u001B[33mWARNING\u001B[0m] \u001B[36mjson_to_dataset\u001B[0m:\u001B[36mmain\u001B[0m:\u001B[36m19\u001B[0m- \u001B[1m\u001B[33mNOTE: This script is aimed to demonstrate how to convert a JSON file to a single image dataset. so it won't handle multiple JSON files to generate a real-use dataset.\u001B[0m\n",
      "2024-01-18 22:01:09,365 [\u001B[1m\u001B[97mINFO   \u001B[0m] \u001B[36mjson_to_dataset\u001B[0m:\u001B[36mmain\u001B[0m:\u001B[36m76\u001B[0m- \u001B[1m\u001B[97mSaved to: labelled_images/swissimage-dop10_2021_2597-1209_0_1_2056_json\u001B[0m\n",
      "2024-01-18 22:01:09,843 [\u001B[1m\u001B[33mWARNING\u001B[0m] \u001B[36mjson_to_dataset\u001B[0m:\u001B[36mmain\u001B[0m:\u001B[36m15\u001B[0m- \u001B[1m\u001B[33mDEPRECATED: This script will be removed in the near future. Please use `labelme_export_json` instead.\u001B[0m\n",
      "2024-01-18 22:01:09,843 [\u001B[1m\u001B[33mWARNING\u001B[0m] \u001B[36mjson_to_dataset\u001B[0m:\u001B[36mmain\u001B[0m:\u001B[36m19\u001B[0m- \u001B[1m\u001B[33mNOTE: This script is aimed to demonstrate how to convert a JSON file to a single image dataset. so it won't handle multiple JSON files to generate a real-use dataset.\u001B[0m\n",
      "2024-01-18 22:01:50,610 [\u001B[1m\u001B[97mINFO   \u001B[0m] \u001B[36mjson_to_dataset\u001B[0m:\u001B[36mmain\u001B[0m:\u001B[36m76\u001B[0m- \u001B[1m\u001B[97mSaved to: labelled_images/swissimage-dop10_2021_2624-1265_0_1_2056_json\u001B[0m\n",
      "2024-01-18 22:01:51,260 [\u001B[1m\u001B[33mWARNING\u001B[0m] \u001B[36mjson_to_dataset\u001B[0m:\u001B[36mmain\u001B[0m:\u001B[36m15\u001B[0m- \u001B[1m\u001B[33mDEPRECATED: This script will be removed in the near future. Please use `labelme_export_json` instead.\u001B[0m\n",
      "2024-01-18 22:01:51,260 [\u001B[1m\u001B[33mWARNING\u001B[0m] \u001B[36mjson_to_dataset\u001B[0m:\u001B[36mmain\u001B[0m:\u001B[36m19\u001B[0m- \u001B[1m\u001B[33mNOTE: This script is aimed to demonstrate how to convert a JSON file to a single image dataset. so it won't handle multiple JSON files to generate a real-use dataset.\u001B[0m\n",
      "2024-01-18 22:02:32,418 [\u001B[1m\u001B[97mINFO   \u001B[0m] \u001B[36mjson_to_dataset\u001B[0m:\u001B[36mmain\u001B[0m:\u001B[36m76\u001B[0m- \u001B[1m\u001B[97mSaved to: labelled_images/swissimage-dop10_2022_2674-1251_0_1_2056_json\u001B[0m\n",
      "2024-01-18 22:02:32,874 [\u001B[1m\u001B[33mWARNING\u001B[0m] \u001B[36mjson_to_dataset\u001B[0m:\u001B[36mmain\u001B[0m:\u001B[36m15\u001B[0m- \u001B[1m\u001B[33mDEPRECATED: This script will be removed in the near future. Please use `labelme_export_json` instead.\u001B[0m\n",
      "2024-01-18 22:02:32,874 [\u001B[1m\u001B[33mWARNING\u001B[0m] \u001B[36mjson_to_dataset\u001B[0m:\u001B[36mmain\u001B[0m:\u001B[36m19\u001B[0m- \u001B[1m\u001B[33mNOTE: This script is aimed to demonstrate how to convert a JSON file to a single image dataset. so it won't handle multiple JSON files to generate a real-use dataset.\u001B[0m\n",
      "2024-01-18 22:03:12,833 [\u001B[1m\u001B[97mINFO   \u001B[0m] \u001B[36mjson_to_dataset\u001B[0m:\u001B[36mmain\u001B[0m:\u001B[36m76\u001B[0m- \u001B[1m\u001B[97mSaved to: labelled_images/swissimage-dop10_2021_2612-1174_0_1_2056_json\u001B[0m\n",
      "2024-01-18 22:03:13,457 [\u001B[1m\u001B[33mWARNING\u001B[0m] \u001B[36mjson_to_dataset\u001B[0m:\u001B[36mmain\u001B[0m:\u001B[36m15\u001B[0m- \u001B[1m\u001B[33mDEPRECATED: This script will be removed in the near future. Please use `labelme_export_json` instead.\u001B[0m\n",
      "2024-01-18 22:03:13,457 [\u001B[1m\u001B[33mWARNING\u001B[0m] \u001B[36mjson_to_dataset\u001B[0m:\u001B[36mmain\u001B[0m:\u001B[36m19\u001B[0m- \u001B[1m\u001B[33mNOTE: This script is aimed to demonstrate how to convert a JSON file to a single image dataset. so it won't handle multiple JSON files to generate a real-use dataset.\u001B[0m\n",
      "2024-01-18 22:03:55,067 [\u001B[1m\u001B[97mINFO   \u001B[0m] \u001B[36mjson_to_dataset\u001B[0m:\u001B[36mmain\u001B[0m:\u001B[36m76\u001B[0m- \u001B[1m\u001B[97mSaved to: labelled_images/swissimage-dop10_2021_2624-1266_0_1_2056_json\u001B[0m\n",
      "2024-01-18 22:03:55,644 [\u001B[1m\u001B[33mWARNING\u001B[0m] \u001B[36mjson_to_dataset\u001B[0m:\u001B[36mmain\u001B[0m:\u001B[36m15\u001B[0m- \u001B[1m\u001B[33mDEPRECATED: This script will be removed in the near future. Please use `labelme_export_json` instead.\u001B[0m\n",
      "2024-01-18 22:03:55,644 [\u001B[1m\u001B[33mWARNING\u001B[0m] \u001B[36mjson_to_dataset\u001B[0m:\u001B[36mmain\u001B[0m:\u001B[36m19\u001B[0m- \u001B[1m\u001B[33mNOTE: This script is aimed to demonstrate how to convert a JSON file to a single image dataset. so it won't handle multiple JSON files to generate a real-use dataset.\u001B[0m\n",
      "2024-01-18 22:04:38,416 [\u001B[1m\u001B[97mINFO   \u001B[0m] \u001B[36mjson_to_dataset\u001B[0m:\u001B[36mmain\u001B[0m:\u001B[36m76\u001B[0m- \u001B[1m\u001B[97mSaved to: labelled_images/swissimage-dop10_2021_2629-1266_0_1_2056_json\u001B[0m\n"
     ]
    }
   ],
   "source": [
    "import os\n",
    "\n",
    "def labelme_json_to_dataset(json_path):\n",
    "    os.system(\"labelme_json_to_dataset \"+json_path)\n",
    "    \n",
    "for file in os.listdir(\"labelled_images\"):\n",
    "    if file.endswith(\".json\"):\n",
    "        labelme_json_to_dataset(\"labelled_images/\"+file)\n"
   ],
   "metadata": {
    "collapsed": false,
    "ExecuteTime": {
     "end_time": "2024-01-18T21:04:38.512131Z",
     "start_time": "2024-01-18T20:51:20.687376Z"
    }
   },
   "id": "340ccc141ecc918a"
  },
  {
   "cell_type": "code",
   "execution_count": 5,
   "outputs": [],
   "source": [
    "# move all folders in labelled_images to labelled_images_as_masks\n",
    "for file in os.listdir(\"labelled_images\"):\n",
    "    if file.endswith(\"_json\"):\n",
    "        os.rename(\"labelled_images/\"+file, \"labelled_images_as_masks/\"+file)"
   ],
   "metadata": {
    "collapsed": false,
    "ExecuteTime": {
     "end_time": "2024-01-18T21:11:22.477418Z",
     "start_time": "2024-01-18T21:11:22.471526Z"
    }
   },
   "id": "ae62c61eed39f10"
  },
  {
   "cell_type": "code",
   "execution_count": 6,
   "id": "initial_id",
   "metadata": {
    "collapsed": true,
    "ExecuteTime": {
     "end_time": "2024-01-18T21:16:32.936937Z",
     "start_time": "2024-01-18T21:16:32.896158Z"
    }
   },
   "outputs": [],
   "source": [
    "from PIL import Image\n",
    "\n",
    "def split_image(image_path, split_width, split_height):\n",
    "    # Open the image\n",
    "    img = Image.open(image_path)\n",
    "\n",
    "    # Calculate the number of splits\n",
    "    img_width, img_height = img.size\n",
    "    rows = img_height // split_height\n",
    "    cols = img_width // split_width\n",
    "\n",
    "    # Create a list to hold the split images\n",
    "    split_images = []\n",
    "\n",
    "    # Split the image and add to the list\n",
    "    for i in range(rows):\n",
    "        for j in range(cols):\n",
    "            left = j * split_width\n",
    "            top = i * split_height\n",
    "            right = (j + 1) * split_width\n",
    "            bottom = (i + 1) * split_height\n",
    "\n",
    "            # Crop the image and append to the list\n",
    "            split_images.append(img.crop((left, top, right, bottom)))\n",
    "\n",
    "    return split_images\n"
   ]
  },
  {
   "cell_type": "code",
   "execution_count": 8,
   "outputs": [
    {
     "name": "stdout",
     "output_type": "stream",
     "text": [
      "swissimage-dop10_2021_2608-1268_0_1_2056_json\n"
     ]
    },
    {
     "name": "stderr",
     "output_type": "stream",
     "text": [
      "/Users/jonaserbacher/PycharmProjects/DetectingCars/venv/lib/python3.9/site-packages/PIL/Image.py:3186: DecompressionBombWarning: Image size (100000000 pixels) exceeds limit of 89478485 pixels, could be decompression bomb DOS attack.\n",
      "  warnings.warn(\n"
     ]
    },
    {
     "name": "stdout",
     "output_type": "stream",
     "text": [
      "swissimage-dop10_2021_2630-1266_0_1_2056_json\n",
      "swissimage-dop10_2021_2622-1264_0_1_2056_json\n",
      "swissimage-dop10_2021_2596-1210_0_1_2056_json\n",
      "swissimage-dop10_2021_2608-1265_0_1_2056_json\n",
      "swissimage-dop10_2022_2674-1247_0_1_2056_json\n",
      "swissimage-dop10_2021_2612-1175_0_1_2056_json\n",
      "swissimage-dop10_2022_2675-1246_0_1_2056_json\n",
      "swissimage-dop10_2021_2598-1209_0_1_2056_json\n",
      "swissimage-dop10_2021_2628-1266_0_1_2056_json\n",
      "swissimage-dop10_2022_2679-1253_0_1_2056_json\n",
      "swissimage-dop10_2021_2629-1266_0_1_2056_json\n",
      "swissimage-dop10_2021_2624-1266_0_1_2056_json\n",
      "swissimage-dop10_2021_2612-1174_0_1_2056_json\n",
      "swissimage-dop10_2022_2674-1251_0_1_2056_json\n",
      "swissimage-dop10_2021_2597-1209_0_1_2056_json\n",
      "swissimage-dop10_2021_2624-1265_0_1_2056_json\n",
      "swissimage-dop10_2021_2631-1266_0_1_2056_json\n",
      "swissimage-dop10_2021_2671-1248_0_1_2056_json\n"
     ]
    }
   ],
   "source": [
    " for folder in os.listdir(\"labelled_images_as_masks\"):\n",
    "        if folder.endswith(\".json\") or not folder.endswith(\"_json\"):\n",
    "            continue\n",
    "        if os.path.exists(\"labelled_images_splitted/\" + folder):\n",
    "            continue\n",
    "        os.mkdir(\"labelled_images_splitted/\" + folder)\n",
    "        print(folder)\n",
    "        for file in os.listdir(\"labelled_images_as_masks/\" + folder):\n",
    "            if file.endswith(\".png\"):\n",
    "                split_images = split_image(\"labelled_images_as_masks/\" + folder + \"/\" + file, 1000, 1000)\n",
    "                for i in range(len(split_images)):\n",
    "                    if not os.path.exists(\"labelled_images_splitted/\" + folder + \"/split\" + str(i)):\n",
    "                        os.mkdir(\"labelled_images_splitted/\" + folder + \"/split\" + str(i))\n",
    "                    split_images[i].save(\n",
    "                        \"labelled_images_splitted/\" + folder + \"/split\" + str(i) + \"/\" + file[:-4] + \"_\" + str(\n",
    "                            i) + \".png\")"
   ],
   "metadata": {
    "collapsed": false,
    "ExecuteTime": {
     "end_time": "2024-01-18T21:32:54.452273Z",
     "start_time": "2024-01-18T21:17:10.735916Z"
    }
   },
   "id": "3ee1ac16ae756a9f"
  },
  {
   "cell_type": "code",
   "execution_count": null,
   "outputs": [],
   "source": [],
   "metadata": {
    "collapsed": false
   }
  }
 ],
 "metadata": {
  "kernelspec": {
   "display_name": "Python 3",
   "language": "python",
   "name": "python3"
  },
  "language_info": {
   "codemirror_mode": {
    "name": "ipython",
    "version": 2
   },
   "file_extension": ".py",
   "mimetype": "text/x-python",
   "name": "python",
   "nbconvert_exporter": "python",
   "pygments_lexer": "ipython2",
   "version": "2.7.6"
  }
 },
 "nbformat": 4,
 "nbformat_minor": 5
}
